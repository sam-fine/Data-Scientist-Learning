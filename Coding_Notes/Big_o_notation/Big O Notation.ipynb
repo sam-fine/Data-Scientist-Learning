{
 "cells": [
  {
   "cell_type": "markdown",
   "id": "59da8f9f",
   "metadata": {},
   "source": [
    "# Big O Notation"
   ]
  },
  {
   "cell_type": "markdown",
   "id": "b6c0b57b",
   "metadata": {},
   "source": [
    "https://www.youtube.com/watch?v=BgLTDT03QtU"
   ]
  },
  {
   "cell_type": "markdown",
   "id": "41d39c46",
   "metadata": {},
   "source": [
    "## What is is?\n",
    "\n",
    "- Used to describe the performance of an algorithm:\n",
    "    - **Time Complexity:** How time varies with input size n\n",
    "- Tells us if an algorithm is scalable, so if the input grows large, will the algroithm perform well"
   ]
  },
  {
   "cell_type": "markdown",
   "id": "115fc227",
   "metadata": {},
   "source": [
    "- We only care about the highest order of an equation, so when finding the order, constants and lower-order terms are dropped.\n",
    "    - e.g. O(n+1) = O(n)\n",
    "    - O((n^2 + n)/2) = O(n^2)\n",
    "- The complexity is for the WORST CASE\n"
   ]
  },
  {
   "cell_type": "markdown",
   "id": "1c6bbae7",
   "metadata": {},
   "source": [
    "## O(1)\n",
    "\n",
    "- Time Complexity is always constant as the input size (n) grows\n",
    "- These are the most efficient algorithms\n",
    "\n",
    "![O(1)](O_1.png)"
   ]
  },
  {
   "cell_type": "markdown",
   "id": "1f9c00c9",
   "metadata": {},
   "source": [
    "## O(1) Examples:"
   ]
  },
  {
   "cell_type": "code",
   "execution_count": 1,
   "id": "0b6015a9",
   "metadata": {},
   "outputs": [
    {
     "name": "stdout",
     "output_type": "stream",
     "text": [
      "10\n"
     ]
    },
    {
     "data": {
      "text/plain": [
       "10"
      ]
     },
     "execution_count": 1,
     "metadata": {},
     "output_type": "execute_result"
    }
   ],
   "source": [
    "\n",
    "#List/array operations\n",
    "nums = [1,2,3]\n",
    "nums.append(4)\n",
    "nums.pop()\n",
    "nums[0]\n",
    "nums[1]\n",
    "nums[2]\n",
    "\n",
    "# dictionary/ hashmap\n",
    "hashmap = {}\n",
    "hashmap[\"key\"] = 10\n",
    "print(hashmap[\"key\"])\n",
    "hashmap.pop(\"key\")"
   ]
  },
  {
   "cell_type": "markdown",
   "id": "b9732b10",
   "metadata": {},
   "source": [
    "## O(n)\n",
    "\n",
    "- The linear growth \n",
    "- As our input value grows the time grows proportionally\n",
    "- Note: we only care about the type of equation, so the time complexity of O(2n) is O(n)\n",
    "\n",
    "![linear](O_n_linear.png)"
   ]
  },
  {
   "cell_type": "markdown",
   "id": "d4939f74",
   "metadata": {},
   "source": [
    "## O(n) examples:"
   ]
  },
  {
   "cell_type": "code",
   "execution_count": 2,
   "id": "194089f4",
   "metadata": {},
   "outputs": [
    {
     "name": "stdout",
     "output_type": "stream",
     "text": [
      "1\n",
      "2\n",
      "3\n"
     ]
    }
   ],
   "source": [
    "# arrays\n",
    "nums = [1,2,3]\n",
    "sum(nums) # iterates through each number in the array\n",
    "\n",
    "for n in nums: #looping\n",
    "    print(n)\n",
    "\n",
    "nums.insert(1,100) #insert middle\n",
    "# (WORST CASE is inserting at start and then move all elements along 1 in the array, n-time operation)\n",
    "nums.remove(100) # remove middle\n",
    "# Note: removing from the end is O(1) as above"
   ]
  },
  {
   "cell_type": "markdown",
   "id": "4f3e6d61",
   "metadata": {},
   "source": [
    "## O(n^2)\n",
    "\n",
    "- Traversing through an n*n matrix is O(n^squared)\n",
    "- Traversing through an n*m matrix is O(n*m)\n",
    "\n",
    "![O(n^2)](O_n_squared.png)"
   ]
  },
  {
   "cell_type": "markdown",
   "id": "df0725a5",
   "metadata": {},
   "source": [
    "## O(n^squared) examples:"
   ]
  },
  {
   "cell_type": "code",
   "execution_count": 3,
   "id": "4bbab8e3",
   "metadata": {},
   "outputs": [
    {
     "name": "stdout",
     "output_type": "stream",
     "text": [
      "1\n",
      "2\n",
      "3\n",
      "4\n",
      "5\n",
      "6\n",
      "7\n",
      "8\n",
      "9\n",
      "1 2\n",
      "1 3\n",
      "2 3\n"
     ]
    }
   ],
   "source": [
    "# 2-d array\n",
    "nums = [[1,2,3],[4,5,6], [7,8,9]]\n",
    "for i in range(len(nums)):\n",
    "    for j in range(len(nums[i])):\n",
    "        print(nums[i][j])\n",
    "        \n",
    "# Get every pair of elements in an array: (can research why it is O(n^2/2) reducing to O(n^2)\n",
    "# we get eg: (1,1), (1,2), (1,3), (2,1) etc which is the number of distinct pairs from n elements where order doesnt matter\n",
    "# This is the binomial coefficient nC2 which is n(n-1)/2 so )(n^2)\n",
    "nums = [1,2,3]\n",
    "for i in range(len(nums)):\n",
    "    for j in range(i+1, len(nums)):\n",
    "        print(nums[i], nums[j])"
   ]
  },
  {
   "cell_type": "markdown",
   "id": "d11321cb",
   "metadata": {},
   "source": [
    "## O(logn)\n",
    "$$\\log_{a}(n) = b => a^b = n$$\n",
    "So:\n",
    "$$ 2^3 = 8 => \\log_{2}(8) = 3 $$\n",
    "Note:\n",
    "$$ \\log_{2}(2) = 1$$\n",
    "$$ \\log_{x}(x) = 1$$\n",
    "$$ \\log(1) = 0$$\n",
    "Natural Logarithm:\n",
    "$$\\ln(x) = \\ln_{e}(x) \\quad \\text{where} \\quad   e \\approx 2.71828$$ \n",
    "\n",
    "- You can see below that log(n) is nearly a flat line, large n is small time.\n",
    "- log(n) is a lot more efficient than log(n)\n",
    "\n",
    "![logn](logn.png)"
   ]
  },
  {
   "cell_type": "markdown",
   "id": "9a3a2b0f",
   "metadata": {},
   "source": [
    "## O(logn) Examples:"
   ]
  },
  {
   "cell_type": "code",
   "execution_count": 4,
   "id": "80055ee8",
   "metadata": {},
   "outputs": [],
   "source": [
    "# Find the index of a number in an array, SORT the array, find the middle element and check if target is larger or smaller\n",
    "# Length of array to be checked keeps halving\n",
    "# The order is how many times you can cut any array of length n in half until it equals 1\n",
    "# OR how many times can you take the value 1 and multiply it by 2 until it reaches n\n",
    "# SO 2^x = n => x = log(n)\n",
    "def binary_search(arr, target):\n",
    "    left, right = 0, len(arr) - 1\n",
    "\n",
    "    while left <= right:\n",
    "        mid = (left + right) // 2\n",
    "\n",
    "        if arr[mid] == target:\n",
    "            return mid\n",
    "        elif arr[mid] < target:\n",
    "            left = mid + 1\n",
    "        else:\n",
    "            right = mid - 1\n",
    "\n",
    "    return -1  # not found\n"
   ]
  },
  {
   "cell_type": "markdown",
   "id": "04d84e27",
   "metadata": {},
   "source": [
    "## O(n!)\n",
    "\n",
    "- Can be for permutation problems for example\n",
    "\n",
    "![factorial](n_factorial.png)"
   ]
  },
  {
   "cell_type": "markdown",
   "id": "53213ba3",
   "metadata": {},
   "source": [
    "**The Orders with smaller gradients are more efficient**"
   ]
  }
 ],
 "metadata": {
  "kernelspec": {
   "display_name": "Python [conda env:base] *",
   "language": "python",
   "name": "conda-base-py"
  },
  "language_info": {
   "codemirror_mode": {
    "name": "ipython",
    "version": 3
   },
   "file_extension": ".py",
   "mimetype": "text/x-python",
   "name": "python",
   "nbconvert_exporter": "python",
   "pygments_lexer": "ipython3",
   "version": "3.13.5"
  }
 },
 "nbformat": 4,
 "nbformat_minor": 5
}
