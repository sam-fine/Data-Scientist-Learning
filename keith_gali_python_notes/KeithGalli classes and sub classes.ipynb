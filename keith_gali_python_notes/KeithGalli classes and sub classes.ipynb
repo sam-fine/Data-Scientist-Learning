{
 "cells": [
  {
   "cell_type": "code",
   "execution_count": 1,
   "metadata": {},
   "outputs": [],
   "source": [
    "import turtle as t"
   ]
  },
  {
   "cell_type": "code",
   "execution_count": 76,
   "metadata": {},
   "outputs": [],
   "source": [
    "class Polygon:\n",
    "    def __init__(self,sides,name,size=100,color= 'red'):\n",
    "        self.sides = sides\n",
    "        self.name=name\n",
    "        self.size = size\n",
    "        self.color = color\n",
    "        self.angle = (self.sides-2)*180/self.sides\n",
    "    def draw(self):\n",
    "        t.color(self.color)\n",
    "        for i in range(self.sides):\n",
    "            t.forward(self.size)\n",
    "            t.left(180-self.angle)\n",
    "        \n",
    "    \n",
    "#sub class\n",
    "\n",
    "class Pentagon(Polygon):\n",
    "    def __init__(self):\n",
    "        super().__init__(5,'Pentagon',size=100,color='red')\n",
    "     \n",
    "    def draw(self):\n",
    "        t.begin_fill()\n",
    "        super().draw()\n",
    "        t.end_fill()\n",
    "        \n",
    "square = Square()\n",
    "pentagon = Pentagon()\n",
    "\n",
    "pentagon.draw()\n",
    "t.done()"
   ]
  }
 ],
 "metadata": {
  "kernelspec": {
   "display_name": "Python 3",
   "language": "python",
   "name": "python3"
  },
  "language_info": {
   "codemirror_mode": {
    "name": "ipython",
    "version": 3
   },
   "file_extension": ".py",
   "mimetype": "text/x-python",
   "name": "python",
   "nbconvert_exporter": "python",
   "pygments_lexer": "ipython3",
   "version": "3.7.4"
  }
 },
 "nbformat": 4,
 "nbformat_minor": 2
}
