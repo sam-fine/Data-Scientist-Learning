{
 "cells": [
  {
   "cell_type": "markdown",
   "id": "cd293a50-b683-4882-8743-53be11ddf2af",
   "metadata": {},
   "source": [
    "# JSON in Python"
   ]
  },
  {
   "cell_type": "code",
   "execution_count": 9,
   "id": "ea1cd521-db50-44fc-9402-6f6aee08d88d",
   "metadata": {},
   "outputs": [
    {
     "name": "stdout",
     "output_type": "stream",
     "text": [
      "<class 'list'>\n",
      "{'id': 1, 'name': 'Alice', 'age': 28, 'city': 'London', 'skills': ['Python', 'SQL', 'Excel']}\n"
     ]
    }
   ],
   "source": [
    "import json\n",
    "import pandas as pd\n",
    "\n",
    "with open('practice_json.json', 'r') as f:\n",
    "    json_data = json.load(f)\n",
    "\n",
    "print(type(json_data)) # list of dictionaries\n",
    "print(json_data[0])"
   ]
  },
  {
   "cell_type": "code",
   "execution_count": 3,
   "id": "b318dff7-5d7f-4d63-a9dc-2f23f57f0db7",
   "metadata": {},
   "outputs": [
    {
     "data": {
      "text/plain": [
       "[{'id': 1,\n",
       "  'name': 'Alice',\n",
       "  'age': 28,\n",
       "  'city': 'London',\n",
       "  'skills': ['Python', 'SQL', 'Excel']},\n",
       " {'id': 2,\n",
       "  'name': 'Bob',\n",
       "  'age': 34,\n",
       "  'city': 'Tel Aviv',\n",
       "  'skills': ['JavaScript', 'React']},\n",
       " {'id': 3,\n",
       "  'name': 'Charlie',\n",
       "  'age': 25,\n",
       "  'city': 'New York',\n",
       "  'skills': ['Python', 'Data Analysis']}]"
      ]
     },
     "execution_count": 3,
     "metadata": {},
     "output_type": "execute_result"
    }
   ],
   "source": [
    "json_data"
   ]
  },
  {
   "cell_type": "code",
   "execution_count": 11,
   "id": "640103ea-9b39-4566-8dbf-7d86809be39f",
   "metadata": {},
   "outputs": [
    {
     "data": {
      "text/html": [
       "<div>\n",
       "<style scoped>\n",
       "    .dataframe tbody tr th:only-of-type {\n",
       "        vertical-align: middle;\n",
       "    }\n",
       "\n",
       "    .dataframe tbody tr th {\n",
       "        vertical-align: top;\n",
       "    }\n",
       "\n",
       "    .dataframe thead th {\n",
       "        text-align: right;\n",
       "    }\n",
       "</style>\n",
       "<table border=\"1\" class=\"dataframe\">\n",
       "  <thead>\n",
       "    <tr style=\"text-align: right;\">\n",
       "      <th></th>\n",
       "      <th>id</th>\n",
       "      <th>name</th>\n",
       "      <th>age</th>\n",
       "      <th>city</th>\n",
       "      <th>skills</th>\n",
       "    </tr>\n",
       "  </thead>\n",
       "  <tbody>\n",
       "    <tr>\n",
       "      <th>0</th>\n",
       "      <td>1</td>\n",
       "      <td>Alice</td>\n",
       "      <td>28</td>\n",
       "      <td>London</td>\n",
       "      <td>[Python, SQL, Excel]</td>\n",
       "    </tr>\n",
       "    <tr>\n",
       "      <th>1</th>\n",
       "      <td>2</td>\n",
       "      <td>Bob</td>\n",
       "      <td>34</td>\n",
       "      <td>Tel Aviv</td>\n",
       "      <td>[JavaScript, React]</td>\n",
       "    </tr>\n",
       "    <tr>\n",
       "      <th>2</th>\n",
       "      <td>3</td>\n",
       "      <td>Charlie</td>\n",
       "      <td>25</td>\n",
       "      <td>New York</td>\n",
       "      <td>[Python, Data Analysis]</td>\n",
       "    </tr>\n",
       "  </tbody>\n",
       "</table>\n",
       "</div>"
      ],
      "text/plain": [
       "   id     name  age      city                   skills\n",
       "0   1    Alice   28    London     [Python, SQL, Excel]\n",
       "1   2      Bob   34  Tel Aviv      [JavaScript, React]\n",
       "2   3  Charlie   25  New York  [Python, Data Analysis]"
      ]
     },
     "execution_count": 11,
     "metadata": {},
     "output_type": "execute_result"
    }
   ],
   "source": [
    "df = pd.DataFrame(json_data)\n",
    "df"
   ]
  },
  {
   "cell_type": "markdown",
   "id": "83967088-5b2e-4b05-a38f-158f893d43c9",
   "metadata": {},
   "source": [
    "## Explode the skills column (values are lists)\n"
   ]
  },
  {
   "cell_type": "code",
   "execution_count": 13,
   "id": "2c44a6c7-d4f0-47bb-9898-7d50622650a3",
   "metadata": {},
   "outputs": [
    {
     "data": {
      "text/html": [
       "<div>\n",
       "<style scoped>\n",
       "    .dataframe tbody tr th:only-of-type {\n",
       "        vertical-align: middle;\n",
       "    }\n",
       "\n",
       "    .dataframe tbody tr th {\n",
       "        vertical-align: top;\n",
       "    }\n",
       "\n",
       "    .dataframe thead th {\n",
       "        text-align: right;\n",
       "    }\n",
       "</style>\n",
       "<table border=\"1\" class=\"dataframe\">\n",
       "  <thead>\n",
       "    <tr style=\"text-align: right;\">\n",
       "      <th></th>\n",
       "      <th>id</th>\n",
       "      <th>name</th>\n",
       "      <th>age</th>\n",
       "      <th>city</th>\n",
       "      <th>skills</th>\n",
       "    </tr>\n",
       "  </thead>\n",
       "  <tbody>\n",
       "    <tr>\n",
       "      <th>0</th>\n",
       "      <td>1</td>\n",
       "      <td>Alice</td>\n",
       "      <td>28</td>\n",
       "      <td>London</td>\n",
       "      <td>Python</td>\n",
       "    </tr>\n",
       "    <tr>\n",
       "      <th>0</th>\n",
       "      <td>1</td>\n",
       "      <td>Alice</td>\n",
       "      <td>28</td>\n",
       "      <td>London</td>\n",
       "      <td>SQL</td>\n",
       "    </tr>\n",
       "    <tr>\n",
       "      <th>0</th>\n",
       "      <td>1</td>\n",
       "      <td>Alice</td>\n",
       "      <td>28</td>\n",
       "      <td>London</td>\n",
       "      <td>Excel</td>\n",
       "    </tr>\n",
       "    <tr>\n",
       "      <th>1</th>\n",
       "      <td>2</td>\n",
       "      <td>Bob</td>\n",
       "      <td>34</td>\n",
       "      <td>Tel Aviv</td>\n",
       "      <td>JavaScript</td>\n",
       "    </tr>\n",
       "    <tr>\n",
       "      <th>1</th>\n",
       "      <td>2</td>\n",
       "      <td>Bob</td>\n",
       "      <td>34</td>\n",
       "      <td>Tel Aviv</td>\n",
       "      <td>React</td>\n",
       "    </tr>\n",
       "    <tr>\n",
       "      <th>2</th>\n",
       "      <td>3</td>\n",
       "      <td>Charlie</td>\n",
       "      <td>25</td>\n",
       "      <td>New York</td>\n",
       "      <td>Python</td>\n",
       "    </tr>\n",
       "    <tr>\n",
       "      <th>2</th>\n",
       "      <td>3</td>\n",
       "      <td>Charlie</td>\n",
       "      <td>25</td>\n",
       "      <td>New York</td>\n",
       "      <td>Data Analysis</td>\n",
       "    </tr>\n",
       "  </tbody>\n",
       "</table>\n",
       "</div>"
      ],
      "text/plain": [
       "   id     name  age      city         skills\n",
       "0   1    Alice   28    London         Python\n",
       "0   1    Alice   28    London            SQL\n",
       "0   1    Alice   28    London          Excel\n",
       "1   2      Bob   34  Tel Aviv     JavaScript\n",
       "1   2      Bob   34  Tel Aviv          React\n",
       "2   3  Charlie   25  New York         Python\n",
       "2   3  Charlie   25  New York  Data Analysis"
      ]
     },
     "execution_count": 13,
     "metadata": {},
     "output_type": "execute_result"
    }
   ],
   "source": [
    "df_exploded = df.explode('skills')\n",
    "df_exploded"
   ]
  },
  {
   "cell_type": "code",
   "execution_count": 21,
   "id": "827088ed-2fd6-4deb-830f-129e5e3f0967",
   "metadata": {},
   "outputs": [
    {
     "data": {
      "text/plain": [
       "2"
      ]
     },
     "execution_count": 21,
     "metadata": {},
     "output_type": "execute_result"
    }
   ],
   "source": [
    "total_python = len(df_exploded.loc[df_exploded['skills']=='Python', :])\n",
    "total_python "
   ]
  },
  {
   "cell_type": "code",
   "execution_count": 24,
   "id": "772cba08-416d-4554-8ab3-81598e30461a",
   "metadata": {},
   "outputs": [
    {
     "data": {
      "text/plain": [
       "[{'id': 1,\n",
       "  'name': 'Alice',\n",
       "  'age': 28,\n",
       "  'city': 'London',\n",
       "  'skills': ['Python', 'SQL', 'Excel']},\n",
       " {'id': 2,\n",
       "  'name': 'Bob',\n",
       "  'age': 34,\n",
       "  'city': 'Tel Aviv',\n",
       "  'skills': ['JavaScript', 'React']},\n",
       " {'id': 3,\n",
       "  'name': 'Charlie',\n",
       "  'age': 25,\n",
       "  'city': 'New York',\n",
       "  'skills': ['Python', 'Data Analysis']},\n",
       " {'id': 4,\n",
       "  'name': 'Sam',\n",
       "  'city': 'Manchester',\n",
       "  'skills': ['Python', 'SQL', 'Grafana']},\n",
       " {'id': 4,\n",
       "  'name': 'Sam',\n",
       "  'city': 'Manchester',\n",
       "  'skills': ['Python', 'SQL', 'Grafana']}]"
      ]
     },
     "execution_count": 24,
     "metadata": {},
     "output_type": "execute_result"
    }
   ],
   "source": [
    "json_data.append({'id':4, 'name':'Sam', 'city':'Manchester', 'skills': ['Python', 'SQL', 'Grafana']})\n",
    "json_data"
   ]
  },
  {
   "cell_type": "markdown",
   "id": "6cb71bfb-c875-4729-b293-05db5ee9fed0",
   "metadata": {},
   "source": [
    "# Write a json file"
   ]
  },
  {
   "cell_type": "code",
   "execution_count": 30,
   "id": "e66a465f-8aef-4ce8-890c-8c62d5b98630",
   "metadata": {},
   "outputs": [],
   "source": [
    "# 1 convert df and save\n",
    "df.to_json('new_json.json', orient='records', indent=2)\n",
    "\n",
    "# 2 write json to file\n",
    "with open('other_json.json', 'w') as jf:\n",
    "    json.dump(json_data, jf, indent=2)"
   ]
  }
 ],
 "metadata": {
  "kernelspec": {
   "display_name": "Python [conda env:base] *",
   "language": "python",
   "name": "conda-base-py"
  },
  "language_info": {
   "codemirror_mode": {
    "name": "ipython",
    "version": 3
   },
   "file_extension": ".py",
   "mimetype": "text/x-python",
   "name": "python",
   "nbconvert_exporter": "python",
   "pygments_lexer": "ipython3",
   "version": "3.13.5"
  }
 },
 "nbformat": 4,
 "nbformat_minor": 5
}
