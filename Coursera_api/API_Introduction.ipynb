{
 "cells": [
  {
   "cell_type": "markdown",
   "id": "1c5ee4a4-2d6e-4f1d-9af3-35b68a191811",
   "metadata": {},
   "source": [
    "# Coursera: API Introduction"
   ]
  },
  {
   "cell_type": "markdown",
   "id": "acea2a5a-61d5-4e01-9311-64c7104db592",
   "metadata": {},
   "source": [
    "API: Application Programming Interface \n",
    "- it is a gateway to backend data\n",
    "- Allow different access services: exchange information, access functionality\n",
    "\n",
    "What is an API?\n",
    "- bread and butter of end-to-end full stack development\n",
    "- Describe how software components interact with each other\n",
    "\n",
    "What do they do?\n",
    "- An intermidiatery between end user and backend service\n",
    "\n",
    "How are they Designed?\n",
    "- Designer creates mocks\n",
    "- product designer provides info on high level objectives for what the product or service can look like\n",
    "- software engineers (backend and front end): API design and structure. eg what request and response structure looks like\n",
    "\n",
    "What to consider when making API?\n",
    "- Who is your end user\n",
    "- Who will be accessing data, the API and the services?\n",
    "    - Add a layer of security/ credentials to requests"
   ]
  }
 ],
 "metadata": {
  "kernelspec": {
   "display_name": "Python [conda env:base] *",
   "language": "python",
   "name": "conda-base-py"
  },
  "language_info": {
   "codemirror_mode": {
    "name": "ipython",
    "version": 3
   },
   "file_extension": ".py",
   "mimetype": "text/x-python",
   "name": "python",
   "nbconvert_exporter": "python",
   "pygments_lexer": "ipython3",
   "version": "3.13.5"
  }
 },
 "nbformat": 4,
 "nbformat_minor": 5
}
