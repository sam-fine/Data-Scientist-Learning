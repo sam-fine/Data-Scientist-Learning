{
 "cells": [
  {
   "cell_type": "markdown",
   "id": "1f06ba11-e2f7-4c57-9593-c393db40968d",
   "metadata": {},
   "source": [
    "# 2. HTTP Protocol"
   ]
  },
  {
   "cell_type": "markdown",
   "id": "88b26b96-631d-40c5-b937-328d5c210f9b",
   "metadata": {},
   "source": [
    "- HTTP: Hyper Text Transfer Protocol\n",
    "- One of the most widely used transfer protocols across the internet\n",
    "- Data is transferred through HTTP\n",
    "- A secured version is HTTPS\n",
    "\n",
    "## Communicating across HTTP:\n",
    "Requires two parts:\n",
    "- The client: requests some information\n",
    "- Server: Responds to the request and serves the content\n",
    "\n",
    "## HTTPS\n",
    "- Secured version of HTTP\n",
    "- Used for when security is a concern, e.g. sharing credit card details \n",
    "- Clients computer encrypts data before it starts its journey to the server\n",
    "- The server the decrypts the client side data and processes it\n",
    "- The web server then encrypts the response data and then sends the encrypted content back to your browser\n",
    "- My browser then decrypts the response \n",
    "\n",
    "## HTTP Methods\n",
    "\n",
    "- Also called HTTP verbs\n",
    "### 5 Common Types:\n",
    "- GET: Retrieves a resource\n",
    "- POST: Create new record from sent data\n",
    "- PUT: Updates the resource\n",
    "- PATCH: Partially update a resource\n",
    "- DELETE: Deletes a resource\n",
    "\n",
    "## HTTP Requests\n",
    "- Contain different types of information that a user's browser sends encoded data\n",
    "\n",
    "### Includes HTTP...:\n",
    "- **Version Type**: e.g. 1.1/ 2.0\n",
    "- **URL (Path):**\n",
    "- **Method**\n",
    "- **Request Headers**\n",
    "- **Body(Optional)**\n",
    "\n",
    "#### Headers:\n",
    "- Example: submitting a form, like your username and password\n",
    "- This data is passed to the webserver as the HTTP Body either as a raw JSON string or a form URL encoded string\n",
    "\n",
    "#### HTTP Request headers\n",
    "- Core part of every HTTP request\n",
    "- Contains extra information to tell the server how to present the content.\n",
    "- Common examples:\n",
    "    - Cookies – store session/user data.\n",
    "    - User-Agent – identifies the client (browser, app, etc.).\n",
    "    - Referrer – indicates the source of the request."
   ]
  },
  {
   "cell_type": "markdown",
   "id": "16d9c534-365b-4a4c-8d35-0ae4b059f280",
   "metadata": {},
   "source": [
    "## HTTP Response:\n",
    "- Consists of information that the browser uses to properly display the content in the response body\n",
    "### Contains:\n",
    "- Requested **resource** that was requested\n",
    "- **Content Length**\n",
    "- **Content Type**\n",
    "- **Headers:** like the Request headers above\n",
    "- **ETags**\n",
    "- **Time last modified**\n",
    "- **HTTP Status Codes:** numerical codes\n",
    "  - Provide extra information to your browser about the resource\n",
    "  - Examples:\n",
    "     - 200 = Everything is OK\n",
    "     - 404 = Can't be found\n",
    "     - 10\n",
    "## HTTP Status Codes\n",
    "![http_status_codes](HTTP_status_codes.png)\n",
    "\n",
    "## When Errors Occur:\n",
    "- Server errors:\n",
    "   - lacks proper error checks\n",
    "   - Configuration mismatch\n",
    "   - Package dependencies issues\n",
    "- Client Errors:\n",
    "  - Client makes a **Bad API request** (insufficient information in the request body)\n",
    "  - Client requests a resource that is not present on the server\n",
    "\n",
    "Note: the same status codes may convey different messages in different contexts:\n",
    "example:\n",
    "- 200 code in GET request: content found\n",
    "- 200 code in PUT request: update and transmitted successfully\n",
    "- 200 code in DELETE request: Deleted successfully"
   ]
  }
 ],
 "metadata": {
  "kernelspec": {
   "display_name": "Python [conda env:base] *",
   "language": "python",
   "name": "conda-base-py"
  },
  "language_info": {
   "codemirror_mode": {
    "name": "ipython",
    "version": 3
   },
   "file_extension": ".py",
   "mimetype": "text/x-python",
   "name": "python",
   "nbconvert_exporter": "python",
   "pygments_lexer": "ipython3",
   "version": "3.13.5"
  }
 },
 "nbformat": 4,
 "nbformat_minor": 5
}
