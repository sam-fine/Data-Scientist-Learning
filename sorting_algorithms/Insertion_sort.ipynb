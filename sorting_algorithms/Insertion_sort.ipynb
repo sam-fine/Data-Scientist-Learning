{
 "cells": [
  {
   "cell_type": "markdown",
   "id": "6854745d-d5f1-4751-bc8d-b5a8a04f465f",
   "metadata": {},
   "source": [
    "## 🪄 Insertion Sort — Summary\n",
    "\n",
    "- Builds a **sorted sublist** one element at a time.  \n",
    "- For each new element, **insert it into the correct position** by swapping/moving backward.  \n",
    "- Efficient for **small** or **nearly sorted** datasets.\n",
    "\n",
    "### 🔁 How It Works\n",
    "1. Start with the first element as a sorted sublist.  \n",
    "2. Take the **next element**.  \n",
    "3. Compare with previous elements and **swap backward** until it's in the correct place.  \n",
    "4. Repeat for all elements.\n",
    "\n",
    "#### 🧮 Example: `[5, 2, 4, 6, 1, 3]`\n",
    "- Iter 1: `[5]`  \n",
    "- Iter 2: `[5, 2] → [2, 5]` (1 swap)  \n",
    "- Iter 3: `[2, 5, 4] → [2, 4, 5]` (1 swap)  \n",
    "- Iter 4: `[2, 4, 5, 6]` (0 swaps)  \n",
    "- Iter 5: `[2, 4, 5, 6, 1] → [1, 2, 4, 5, 6]` (4 swaps)  \n",
    "- Iter 6: `[1, 2, 4, 5, 6, 3] → [1, 2, 3, 4, 5, 6]` (3 swaps)\n",
    "\n",
    "---\n",
    "\n",
    "### ⏳ Time Complexity\n",
    "- `n` iterations, inserting into the sorted part.\n",
    "- **Worst case:** reversed array →  $n + (n-1) + \\dots + 1 = \\frac{n(n - 1)}{2}$  swaps\n",
    "- **Best case:** already sorted → `O(n)` (only 1 comparison per iteration).\n",
    "\n",
    "### 💾 Space Complexity\n",
    "- Only uses the array so O(n)\n",
    "\n",
    "---\n",
    "\n",
    "✅ **Key Points**\n",
    "- More efficient than Bubble Sort for small or nearly sorted data.  \n"
   ]
  },
  {
   "cell_type": "code",
   "execution_count": 9,
   "id": "986db3c2-7d13-457a-8e37-e4673ea29db3",
   "metadata": {},
   "outputs": [],
   "source": [
    "## My first attempt (worse but easier to understand)\n",
    "def insertion(arr):\n",
    "    swapped=False\n",
    "    sublist = [arr[0]]\n",
    "    for i in range(1,len(arr)):# dont need to look at the 0th element so start at 1\n",
    "        sublist.append(arr[i])\n",
    "        for j in range(i,0,-1):\n",
    "            if sublist[j]<sublist[j-1]:\n",
    "                sublist[j-1], sublist[j] = sublist[j], sublist[j-1]\n",
    "                swapped=True\n",
    "            else:\n",
    "                break\n",
    "        if swapped:\n",
    "            swapped=False\n",
    "    return sublist\n",
    "                "
   ]
  },
  {
   "cell_type": "code",
   "execution_count": 12,
   "id": "0be08e66-01a4-49d7-a807-b5f3698c6d8c",
   "metadata": {},
   "outputs": [],
   "source": [
    "## Main way\n",
    "def insertionSort(array):\n",
    "    for i in range(1, len(array)):\n",
    "        key = array[i]\n",
    "        j = i-1\n",
    "        while array[j] > key and j >= 0:\n",
    "            array[j+1] = array[j]\n",
    "            j -= 1\n",
    "        array[j+1] = key #insert key in correct position\n",
    "    return array"
   ]
  },
  {
   "cell_type": "code",
   "execution_count": 13,
   "id": "c2d162ad-76a2-4472-ae68-728b33ca88bb",
   "metadata": {},
   "outputs": [
    {
     "data": {
      "text/plain": [
       "[1, 2, 3, 4, 5, 6]"
      ]
     },
     "execution_count": 13,
     "metadata": {},
     "output_type": "execute_result"
    }
   ],
   "source": [
    "x= [5,2,4,6,1,3]\n",
    "insertionSort(x)"
   ]
  }
 ],
 "metadata": {
  "kernelspec": {
   "display_name": "Python [conda env:base] *",
   "language": "python",
   "name": "conda-base-py"
  },
  "language_info": {
   "codemirror_mode": {
    "name": "ipython",
    "version": 3
   },
   "file_extension": ".py",
   "mimetype": "text/x-python",
   "name": "python",
   "nbconvert_exporter": "python",
   "pygments_lexer": "ipython3",
   "version": "3.13.5"
  }
 },
 "nbformat": 4,
 "nbformat_minor": 5
}
