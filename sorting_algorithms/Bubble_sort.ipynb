{
 "cells": [
  {
   "cell_type": "markdown",
   "id": "275271b3-caee-46ce-8c21-f4adb7955f05",
   "metadata": {},
   "source": [
    "## Bubble Sort\n",
    "Kieth Galli:\n",
    "https://www.youtube.com/watch?v=o3Si2CuAtWE&list=PLFCB5Dp81iNWgbv5kqYvEofhWSAeNMs9f&index=3\n",
    "\n",
    "\n",
    "## 🫧 Bubble Sort — Summary\n",
    "\n",
    "- **Popular but inefficient** sorting algorithm.  \n",
    "- **Simplest** conceptually: compare **adjacent pairs**, **swap** if not in increasing order.  \n",
    "- Repeat until **no swaps occur**.\n",
    "\n",
    "### 🔁 How It Works\n",
    "1. Compare adjacent elements `A[i]` and `A[i+1]`.\n",
    "2. Swap if `A[i] > A[i+1]`.\n",
    "3. After each pass, the **largest** element moves to the end.\n",
    "   - After each iteration, the largest element bubbles up to the end.\n",
    "5. Next pass → only check `n-1` elements.\n",
    "6. Stop when no swaps.\n",
    "\n",
    "### ⏳ Time Complexity\n",
    "- Comparisons per pass: `n`, `n-1`, ..., `1`\n",
    "- Total comparisons:  \n",
    "  $n + (n-1) + \\dots + 1 = \\frac{n(n - 1)}{2}$\n",
    "- Asymptotic time: **O(n²)**\n",
    "- Best case (already sorted): **O(n)** with early stopping.\n",
    "\n",
    "\n",
    "### 💾 Space Complexity\n",
    "- Only uses the array so O(n)\n",
    "\n",
    "### ✅ Example\n",
    "`[5, 3, 1, 4]` → `[3, 1, 4, 5]` → `[1, 3, 4, 5]` → sorted.\n"
   ]
  },
  {
   "cell_type": "code",
   "execution_count": null,
   "id": "a8e1d279-82f7-4384-a0a8-f74fb3813b30",
   "metadata": {},
   "outputs": [],
   "source": [
    "def bubble(arr):\n",
    "    swapped = False\n",
    "    for i in range(len(arr)): #starting at 0\n",
    "        for j in range(len(arr)-i-1): #we compare n-1 to n on first comparison, so go up to n-1\n",
    "            if arr[j]>arr[j+1]:\n",
    "                arr[j], arr[j+1] = arr[j+1], arr[j]\n",
    "                swapped = True\n",
    "        if swapped:\n",
    "            swapped = False #reset swap after each iteration\n",
    "        else:\n",
    "            break # break early if no swaps occur\n",
    "    return arr\n",
    "            "
   ]
  }
 ],
 "metadata": {
  "kernelspec": {
   "display_name": "Python [conda env:base] *",
   "language": "python",
   "name": "conda-base-py"
  },
  "language_info": {
   "codemirror_mode": {
    "name": "ipython",
    "version": 3
   },
   "file_extension": ".py",
   "mimetype": "text/x-python",
   "name": "python",
   "nbconvert_exporter": "python",
   "pygments_lexer": "ipython3",
   "version": "3.13.5"
  }
 },
 "nbformat": 4,
 "nbformat_minor": 5
}
