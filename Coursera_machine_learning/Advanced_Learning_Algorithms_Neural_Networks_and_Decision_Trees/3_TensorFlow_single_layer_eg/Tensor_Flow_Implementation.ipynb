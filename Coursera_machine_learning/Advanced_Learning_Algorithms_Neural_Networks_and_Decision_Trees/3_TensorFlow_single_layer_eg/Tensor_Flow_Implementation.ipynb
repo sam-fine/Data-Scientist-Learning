{
 "cells": [
  {
   "cell_type": "markdown",
   "id": "b3e6a79f-0c82-42fc-8c44-5d278c3ed419",
   "metadata": {},
   "source": [
    "# Tensor_Flow_Implementation"
   ]
  },
  {
   "cell_type": "markdown",
   "id": "a7dc37eb-c8b1-40c1-a418-a57106ce8d54",
   "metadata": {},
   "source": [
    "Populer tool for building data algorithms, also uses pytorch\n",
    "\n",
    "Inference in code:\n",
    "\n",
    "There are some inconsistencies between numpy and tensorflow\n",
    "\n"
   ]
  },
  {
   "cell_type": "markdown",
   "id": "e2a3c53c-6332-43c1-af60-693f07b50a3d",
   "metadata": {},
   "source": [
    "### Numpy Matrix:\n",
    "$x = np.array([[1, 2, 3], [4,5,6]])$\n",
    "- Why is there a double bracket?\n",
    "- x is a 2-D array representing a 2 $\\times$ 3 matrix, where [1,2,3] is the first row and [4,5,6] is the second row\n",
    "\n",
    "### 2D Arrays/ Vectors:\n",
    "**Row vector (1 $\\times$ 2 matrix):**  \n",
    "\n",
    "$x= np.array([[200,17]]) = [200,17]$\n",
    "\n",
    "\n",
    "**Column Vector (2 $\\times$ 1 matix):**  \n",
    "$x= np.array([[200],[17]]) = \\begin{bmatrix}200\\\\17\\end{bmatrix}$\n",
    "\n",
    "### 1D Array/Vector\n",
    "\n",
    "**Linear Array:**\n",
    "$x=np.array([200,17])$ \n",
    "- This is just a 1D array with no columns or rows\n",
    "- Previously, when working with linear and logistic regression, we used linear 1D arrays.  \n",
    "- When using TensorFlow, we generally use 2D arrays/ matrices\n",
    "- Using matrices allows Tensorflow to be more computationally efficient\n",
    "\n",
    "### Tensor Matrix\n",
    "tf.Tensor() \n",
    "- This is a Tensorflow object representing a matrix\n",
    "- When you pass a numpy array into TensorFlow, you get a Tensor array\n",
    "\n",
    "### Convert Tensor to Numpy:"
   ]
  },
  {
   "cell_type": "code",
   "execution_count": 11,
   "id": "5b0f40a0-59c7-4655-bcc7-75be8e02c28e",
   "metadata": {},
   "outputs": [
    {
     "data": {
      "text/plain": [
       "<tf.Tensor: shape=(1, 3), dtype=float32, numpy=array([[1.000000e+00, 9.331679e-35, 1.000000e+00]], dtype=float32)>"
      ]
     },
     "execution_count": 11,
     "metadata": {},
     "output_type": "execute_result"
    }
   ],
   "source": [
    "import tensorflow as tf\n",
    "from tensorflow.keras.layers import Dense\n",
    "import numpy as np\n",
    "x = np.array([[200.0,17.0]])\n",
    "layer_1 = Dense(units=3, activation='sigmoid')\n",
    "a1 = layer_1(x)\n",
    "a1"
   ]
  },
  {
   "cell_type": "code",
   "execution_count": 12,
   "id": "7302eb0c-71ed-4f40-a412-e674b0c2ea20",
   "metadata": {},
   "outputs": [
    {
     "data": {
      "text/plain": [
       "array([[1.000000e+00, 9.331679e-35, 1.000000e+00]], dtype=float32)"
      ]
     },
     "execution_count": 12,
     "metadata": {},
     "output_type": "execute_result"
    }
   ],
   "source": [
    "a1_numpy = a1.numpy()\n",
    "a1_numpy"
   ]
  }
 ],
 "metadata": {
  "kernelspec": {
   "display_name": "Python [conda env:base] *",
   "language": "python",
   "name": "conda-base-py"
  },
  "language_info": {
   "codemirror_mode": {
    "name": "ipython",
    "version": 3
   },
   "file_extension": ".py",
   "mimetype": "text/x-python",
   "name": "python",
   "nbconvert_exporter": "python",
   "pygments_lexer": "ipython3",
   "version": "3.13.5"
  }
 },
 "nbformat": 4,
 "nbformat_minor": 5
}
