{
 "cells": [
  {
   "cell_type": "markdown",
   "id": "b3e6a79f-0c82-42fc-8c44-5d278c3ed419",
   "metadata": {},
   "source": [
    "# Tensor_Flow_Implementation"
   ]
  },
  {
   "cell_type": "markdown",
   "id": "a7dc37eb-c8b1-40c1-a418-a57106ce8d54",
   "metadata": {},
   "source": [
    "Populer tool for building data algorithms, also uses pytorch\n",
    "\n",
    "Inference in code:\n",
    "\n"
   ]
  },
  {
   "cell_type": "code",
   "execution_count": null,
   "id": "e43ca3d0-8b2a-4813-896a-207031531e85",
   "metadata": {},
   "outputs": [],
   "source": []
  }
 ],
 "metadata": {
  "kernelspec": {
   "display_name": "Python [conda env:base] *",
   "language": "python",
   "name": "conda-base-py"
  },
  "language_info": {
   "codemirror_mode": {
    "name": "ipython",
    "version": 3
   },
   "file_extension": ".py",
   "mimetype": "text/x-python",
   "name": "python",
   "nbconvert_exporter": "python",
   "pygments_lexer": "ipython3",
   "version": "3.13.5"
  }
 },
 "nbformat": 4,
 "nbformat_minor": 5
}
