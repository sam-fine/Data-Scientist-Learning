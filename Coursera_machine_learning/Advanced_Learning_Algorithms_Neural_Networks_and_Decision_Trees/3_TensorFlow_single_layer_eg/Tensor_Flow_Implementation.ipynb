{
 "cells": [
  {
   "cell_type": "markdown",
   "id": "b3e6a79f-0c82-42fc-8c44-5d278c3ed419",
   "metadata": {},
   "source": [
    "# Tensor_Flow_Implementation"
   ]
  },
  {
   "cell_type": "markdown",
   "id": "a7dc37eb-c8b1-40c1-a418-a57106ce8d54",
   "metadata": {},
   "source": [
    "Populer tool for building data algorithms, also uses pytorch\n",
    "\n",
    "Inference in code:\n",
    "\n",
    "There are some inconsistencies between numpy and tensorflow\n",
    "\n"
   ]
  },
  {
   "cell_type": "markdown",
   "id": "e2a3c53c-6332-43c1-af60-693f07b50a3d",
   "metadata": {},
   "source": [
    "### Numpy Matrix:\n",
    "$x = np.array([[1, 2, 3], [4,5,6]])$\n",
    "- Why is there a double bracket?\n",
    "- x is a 2-D array representing a 2 $\\times$ 3 matrix, where [1,2,3] is the first row and [4,5,6] is the second row\n",
    "\n",
    "### 2D Arrays/ Vectors:\n",
    "**Row vector (1 $\\times$ 2 matrix):**  \n",
    "\n",
    "$x= np.array([[200,17]]) = [200,17]$\n",
    "\n",
    "\n",
    "**Column Vector (2 $\\times$ 1 matix):**  \n",
    "$x= np.array([[200],[17]]) = \\begin{bmatrix}200\\\\17\\end{bmatrix}$\n",
    "\n",
    "### 1D Array/Vector\n",
    "\n",
    "**Linear Array:**\n",
    "$x=np.array([200,17])$ \n",
    "- This is just a 1D array with no columns or rows\n",
    "- Previously, when working with linear and logistic regression, we used linear 1D arrays.  \n",
    "- When using TensorFlow, we generally use 2D arrays/ matrices\n",
    "- Using matrices allows Tensorflow to be more computationally efficient\n",
    "\n",
    "### Tensor Matrix\n",
    "tf.Tensor() \n",
    "- This is a Tensorflow object representing a matrix\n",
    "- When you pass a numpy array into TensorFlow, you get a Tensor array\n",
    "\n",
    "### Convert Tensor to Numpy:"
   ]
  },
  {
   "cell_type": "code",
   "execution_count": 11,
   "id": "5b0f40a0-59c7-4655-bcc7-75be8e02c28e",
   "metadata": {},
   "outputs": [
    {
     "data": {
      "text/plain": [
       "<tf.Tensor: shape=(1, 3), dtype=float32, numpy=array([[1.000000e+00, 9.331679e-35, 1.000000e+00]], dtype=float32)>"
      ]
     },
     "execution_count": 11,
     "metadata": {},
     "output_type": "execute_result"
    }
   ],
   "source": [
    "import tensorflow as tf\n",
    "from tensorflow.keras.layers import Dense\n",
    "import numpy as np\n",
    "x = np.array([[200.0,17.0]])\n",
    "layer_1 = Dense(units=3, activation='sigmoid')\n",
    "a1 = layer_1(x)\n",
    "a1"
   ]
  },
  {
   "cell_type": "code",
   "execution_count": 12,
   "id": "7302eb0c-71ed-4f40-a412-e674b0c2ea20",
   "metadata": {},
   "outputs": [
    {
     "data": {
      "text/plain": [
       "array([[1.000000e+00, 9.331679e-35, 1.000000e+00]], dtype=float32)"
      ]
     },
     "execution_count": 12,
     "metadata": {},
     "output_type": "execute_result"
    }
   ],
   "source": [
    "a1_numpy = a1.numpy()\n",
    "a1_numpy"
   ]
  },
  {
   "cell_type": "markdown",
   "id": "2652d1c6-7deb-4946-a665-86bd80d28eca",
   "metadata": {},
   "source": [
    "## Neural Network Implementation\n",
    "\n",
    "- Previously, we manually created eg layer 1 and layer 2, and inputted the activation from layer 1 into layer 2.\n",
    "- Instead, we can string the layers together (compile) using the Sequential function to create a neural network"
   ]
  },
  {
   "cell_type": "code",
   "execution_count": 1,
   "id": "89bc0c67-0b35-4b41-9086-15add53ab0db",
   "metadata": {},
   "outputs": [
    {
     "ename": "NameError",
     "evalue": "name 'layer_1' is not defined",
     "output_type": "error",
     "traceback": [
      "\u001b[1;31m---------------------------------------------------------------------------\u001b[0m",
      "\u001b[1;31mNameError\u001b[0m                                 Traceback (most recent call last)",
      "Cell \u001b[1;32mIn[1], line 4\u001b[0m\n\u001b[0;32m      2\u001b[0m \u001b[38;5;28;01mfrom\u001b[39;00m\u001b[38;5;250m \u001b[39m\u001b[38;5;21;01mtensorflow\u001b[39;00m\u001b[38;5;21;01m.\u001b[39;00m\u001b[38;5;21;01mkeras\u001b[39;00m\u001b[38;5;21;01m.\u001b[39;00m\u001b[38;5;21;01mlayers\u001b[39;00m\u001b[38;5;250m \u001b[39m\u001b[38;5;28;01mimport\u001b[39;00m Dense\n\u001b[0;32m      3\u001b[0m \u001b[38;5;28;01mfrom\u001b[39;00m\u001b[38;5;250m \u001b[39m\u001b[38;5;21;01mtensorflow\u001b[39;00m\u001b[38;5;21;01m.\u001b[39;00m\u001b[38;5;21;01mkeras\u001b[39;00m\u001b[38;5;250m \u001b[39m\u001b[38;5;28;01mimport\u001b[39;00m Sequential\n\u001b[1;32m----> 4\u001b[0m model \u001b[38;5;241m=\u001b[39m Sequential([layer_1, layer_2])\n\u001b[0;32m      5\u001b[0m model\u001b[38;5;241m.\u001b[39mcompile(\u001b[38;5;241m.\u001b[39m\u001b[38;5;241m.\u001b[39m\u001b[38;5;241m.\u001b[39m) \u001b[38;5;66;03m# learn about this later\u001b[39;00m\n\u001b[0;32m      6\u001b[0m model\u001b[38;5;241m.\u001b[39mfit(x,y) \u001b[38;5;66;03m# x = training data and y=target data\u001b[39;00m\n",
      "\u001b[1;31mNameError\u001b[0m: name 'layer_1' is not defined"
     ]
    }
   ],
   "source": [
    "import tensorflow as tf\n",
    "from tensorflow.keras.layers import Dense\n",
    "from tensorflow.keras import Sequential\n",
    "\n",
    "model = Sequential([layer_1, layer_2])\n",
    "model.compile(...) # learn about this later\n",
    "model.fit(x,y) # x = training data and y=target data\n",
    "\n",
    "### How to do inference/ Forward Propagation/ Predictions\n",
    "model.predict(x_new)\n"
   ]
  },
  {
   "cell_type": "markdown",
   "id": "5d5df072-3cff-4ead-b0e3-2fb226261169",
   "metadata": {},
   "source": [
    "## Setting up Sequential Function in Practice:"
   ]
  },
  {
   "cell_type": "code",
   "execution_count": null,
   "id": "8263e942-fe2c-473f-b131-0235729b6ecc",
   "metadata": {},
   "outputs": [],
   "source": [
    "# Don't define layer_1, layer_2 explicitly\n",
    "model = Sequential([\n",
    "    Dense(units=3, activation='sigmoid'),\n",
    "    Dense(units=1, activation='sigmoid')])"
   ]
  }
 ],
 "metadata": {
  "kernelspec": {
   "display_name": "Python [conda env:base] *",
   "language": "python",
   "name": "conda-base-py"
  },
  "language_info": {
   "codemirror_mode": {
    "name": "ipython",
    "version": 3
   },
   "file_extension": ".py",
   "mimetype": "text/x-python",
   "name": "python",
   "nbconvert_exporter": "python",
   "pygments_lexer": "ipython3",
   "version": "3.13.5"
  }
 },
 "nbformat": 4,
 "nbformat_minor": 5
}
