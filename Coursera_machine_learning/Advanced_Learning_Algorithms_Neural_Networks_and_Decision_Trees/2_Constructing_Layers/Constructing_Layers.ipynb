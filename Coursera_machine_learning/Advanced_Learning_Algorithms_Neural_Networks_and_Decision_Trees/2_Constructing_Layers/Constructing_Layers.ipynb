{
 "cells": [
  {
   "cell_type": "markdown",
   "id": "1317ec8a-abb1-4938-a081-9e235a82be05",
   "metadata": {},
   "source": [
    "# Constructing Layers"
   ]
  },
  {
   "cell_type": "markdown",
   "id": "1fb7892e-0b67-455b-9b4f-b1a3c89c6913",
   "metadata": {},
   "source": [
    "![term](layers_terminology.png)\n",
    "\n",
    "- The hidden layer takes in 4 features that get inputted into 3 neurons.\n",
    "- Each layer is given a number, e.g. Layer 1 and the outputs are denoted as $\\bar{a}^{[1]}$, the vector of activation values from layer 1.\n",
    "- Each neuron in a layer is a separate logistic regression that ouputs some activation $a_{x}^{[1]}$, where x is the specific neuron in the layer.\n",
    "\n",
    "![layer_2](layer_2_terminology.png)\n",
    "\n",
    "- The input to layer 2 is the output of layer 1, $\\bar{a}^{[1]}$  \n",
    "- You can see that the features inputted into the logistic equation are $\\bar{a}^{[1]}$ rather than the input features $\\bar{x}$\n",
    "- The final output above is the scaler $a^{[2]}$\n",
    "\n",
    "![final](final_layer_decision.png)\n",
    "- Final Decision: if $a^{[2]} \\ge 0.5$"
   ]
  },
  {
   "cell_type": "markdown",
   "id": "ab29a282-aa07-408a-b4dc-ed874a5afb88",
   "metadata": {},
   "source": [
    "## General Notation:\n",
    "![notation](activation_notation.png)\n",
    "\n",
    "- g is the **Activation Function**\n",
    "    - In Logistic Regression, g is the sigmoid function"
   ]
  }
 ],
 "metadata": {
  "kernelspec": {
   "display_name": "Python [conda env:base] *",
   "language": "python",
   "name": "conda-base-py"
  },
  "language_info": {
   "codemirror_mode": {
    "name": "ipython",
    "version": 3
   },
   "file_extension": ".py",
   "mimetype": "text/x-python",
   "name": "python",
   "nbconvert_exporter": "python",
   "pygments_lexer": "ipython3",
   "version": "3.13.5"
  }
 },
 "nbformat": 4,
 "nbformat_minor": 5
}
