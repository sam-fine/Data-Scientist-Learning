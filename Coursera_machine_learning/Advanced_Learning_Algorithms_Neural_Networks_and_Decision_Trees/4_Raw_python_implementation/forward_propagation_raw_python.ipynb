{
 "cells": [
  {
   "cell_type": "markdown",
   "id": "c5c7e456-7110-46f8-9ea5-0118aa2fb013",
   "metadata": {},
   "source": [
    "# Forward Propagation Implemented with Raw Python\n",
    "\n",
    "w2_1 = $w_1^{[2]}$"
   ]
  }
 ],
 "metadata": {
  "kernelspec": {
   "display_name": "Python [conda env:base] *",
   "language": "python",
   "name": "conda-base-py"
  },
  "language_info": {
   "codemirror_mode": {
    "name": "ipython",
    "version": 3
   },
   "file_extension": ".py",
   "mimetype": "text/x-python",
   "name": "python",
   "nbconvert_exporter": "python",
   "pygments_lexer": "ipython3",
   "version": "3.13.5"
  }
 },
 "nbformat": 4,
 "nbformat_minor": 5
}
