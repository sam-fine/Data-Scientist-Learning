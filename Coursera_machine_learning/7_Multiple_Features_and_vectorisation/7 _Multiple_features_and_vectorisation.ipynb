{
 "cells": [
  {
   "cell_type": "markdown",
   "id": "78b1bb60",
   "metadata": {},
   "source": [
    "# Multiple Features and Vectorisation"
   ]
  },
  {
   "cell_type": "markdown",
   "id": "39f35b88",
   "metadata": {},
   "source": [
    "## Terminology\n",
    "\n",
    "![term](terminology.png)\n",
    "\n",
    "The arrow above x is showing a vector.\n"
   ]
  },
  {
   "cell_type": "markdown",
   "id": "e01805c6",
   "metadata": {},
   "source": [
    "## Multiple Linear Regression Model Example\n",
    "\n",
    "$$f_{w,b}(x) = w_1 x_{1} + w_2 x_{2} + \\dots + w_n x_{n} + b$$\n",
    "\n",
    "or\n",
    "\n",
    "$$f_{\\vec{w},b}(\\vec{x}) = \\vec{w} \\cdot \\vec{x} + b$$\n",
    "\n",
    "where\n",
    "\n",
    "$$\\vec{w} = [w_{1}, w_{2}, w_{3} \\dots, w_{n}]$$\n",
    "$$\\vec{x} = [x_{1}, x_{2}, x_{3} \\dots, x_{n}]$$\n",
    "\n",
    "\n",
    "**Note:** Linear algebra is 1th indexed and code is 0th indexed\n",
    "\n"
   ]
  },
  {
   "cell_type": "markdown",
   "id": "9e5e2ddc",
   "metadata": {},
   "source": [
    "## Vectorisation"
   ]
  },
  {
   "cell_type": "code",
   "execution_count": null,
   "id": "c35e5702",
   "metadata": {},
   "outputs": [],
   "source": [
    "import numpy as np\n",
    "\n",
    "# mathematical dot product\n",
    "f = np.dot(w,x) + b"
   ]
  },
  {
   "cell_type": "markdown",
   "id": "f686cfb0",
   "metadata": {},
   "source": [
    "![vec](vectorisation.png)\n",
    "\n",
    "- without vectorisation: **series** calculations\n",
    "- with vectorisation: **parallel** calculations (quicker)"
   ]
  }
 ],
 "metadata": {
  "kernelspec": {
   "display_name": "Python 3 (ipykernel)",
   "language": "python",
   "name": "python3"
  },
  "language_info": {
   "codemirror_mode": {
    "name": "ipython",
    "version": 3
   },
   "file_extension": ".py",
   "mimetype": "text/x-python",
   "name": "python",
   "nbconvert_exporter": "python",
   "pygments_lexer": "ipython3",
   "version": "3.9.12"
  }
 },
 "nbformat": 4,
 "nbformat_minor": 5
}
