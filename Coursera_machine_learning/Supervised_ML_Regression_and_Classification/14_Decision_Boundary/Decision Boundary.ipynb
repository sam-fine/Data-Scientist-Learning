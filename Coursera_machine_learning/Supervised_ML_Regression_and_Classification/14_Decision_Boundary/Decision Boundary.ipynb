{
 "cells": [
  {
   "cell_type": "markdown",
   "id": "b72ef460",
   "metadata": {},
   "source": [
    "# Decision Boundary"
   ]
  },
  {
   "cell_type": "markdown",
   "id": "38150424",
   "metadata": {},
   "source": [
    "We want the decision of 0 or 1 after implementing the sigmoid function in logistic regression\n",
    "One way to do this is define a threshold, e.g. 0.5: \n",
    "$$f_{\\bar{w},b}(\\bar{x}) \\ge 0.5,  \\hat{y} = 1$$\n",
    "$$f_{\\bar{w},b}(\\bar{x}) < 0.5,  \\hat{y} = 0$$\n",
    "\n",
    "When is:\n",
    "$$f_{\\bar{w},b}(\\bar{x}) \\ge 0.5$$\n",
    "$$g(z) \\ge 0.5$$\n",
    "where\n",
    "$$ z = \\bar{w}\\cdot\\bar{x} + b$$\n",
    "\n",
    "![above_0.5](sigmoid_more_05.png)\n",
    "\n",
    "We can see above that this is when:\n",
    "$$z \\ge 0$$\n",
    "$$\\bar{w}\\cdot\\bar{x} + b \\ge 0$$\n",
    "$$\\hat{y} = 1$$\n",
    "\n",
    "Conversely:\n",
    "$$z < 0$$\n",
    "$$\\bar{w}\\cdot\\bar{x} + b < 0$$\n",
    "$$\\hat{y} = 0$$\n",
    "\n",
    "- **Note:** Threshold value does not have to be 0.5, it can be any in the range [0,1]"
   ]
  },
  {
   "cell_type": "markdown",
   "id": "9a27a067",
   "metadata": {},
   "source": [
    "### Two Features Example\n",
    "\n",
    "We have two features and w1, w2 = 1 and b = -3\n",
    "![two_feat](decision_boundary_eg.png)\n",
    "\n",
    "- The decision boundary is when z = 0 as this is when we are neutral about whether $\\hat{y}$ is 0 or 1\n",
    "- Find when z = 0 and this is the decision boundary equation "
   ]
  },
  {
   "cell_type": "markdown",
   "id": "fded981d",
   "metadata": {},
   "source": [
    "### Non-Linear Example\n",
    "\n",
    "- z is the equation of a circle\n",
    "![non_linear](non_linear_eg.png)\n",
    "\n",
    "- You can have even more complex decision boundaries, with many other powers of x included in the equation for x.\n"
   ]
  }
 ],
 "metadata": {
  "kernelspec": {
   "display_name": "Python 3 (ipykernel)",
   "language": "python",
   "name": "python3"
  },
  "language_info": {
   "codemirror_mode": {
    "name": "ipython",
    "version": 3
   },
   "file_extension": ".py",
   "mimetype": "text/x-python",
   "name": "python",
   "nbconvert_exporter": "python",
   "pygments_lexer": "ipython3",
   "version": "3.9.12"
  }
 },
 "nbformat": 4,
 "nbformat_minor": 5
}
