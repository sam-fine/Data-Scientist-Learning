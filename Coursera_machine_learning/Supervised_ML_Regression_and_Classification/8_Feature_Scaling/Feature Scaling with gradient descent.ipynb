{
 "cells": [
  {
   "cell_type": "markdown",
   "id": "73d64848",
   "metadata": {},
   "source": [
    "# Feature Scaling in Gradient Descent"
   ]
  },
  {
   "cell_type": "markdown",
   "id": "67255b2b",
   "metadata": {},
   "source": [
    "The range of values for particular features influences the speed of the algorithm:  \n",
    "\n",
    "Find $w_{1}$ and $w_{2}$ for:\n",
    "$$\\hat{y} = w_{1}x_{1} + w_{2}x_{2} + b $$\n",
    "where $x_{1}$ large range: 300-2000 and $x_{2}$ small range: 0-5\n",
    "\n",
    "Large values of $w_{1}$ and small changes in $w_{1}$ have a larger affect on $\\hat{y}$ compared to $w_{2}$\n",
    "\n",
    "- If the values in a feature's range are large, a good model will likely learn to choose a relatively small parameter, and the vica versa is also true. (larger range usually means larger magnitude for the values)\n",
    "\n"
   ]
  },
  {
   "cell_type": "markdown",
   "id": "1831139b",
   "metadata": {},
   "source": [
    "## How changes in features and Parameters effect the estimation\n",
    "![unchanged](unscaled.png)\n",
    "\n",
    "**Features graph:** the values on the x axis are over a larger range than the y axis\n",
    "\n",
    "**Contour plot:** x axis is narrower and the y axis is wider.\n",
    "\n",
    "- Small change to w1 gives large impact to estimation and the cost function J, because w1 is usually multiplied by a large number x1. \n",
    "    - So smaller change to w1 is needed for meaningful cost change.\n",
    "- Small change to w2 gives small impact to estimation and the cost function J, because w2 is usually multiplied by a smaller number x2. \n",
    "    - So larger change to w2 is needed for meaningful cost change.\n"
   ]
  },
  {
   "cell_type": "markdown",
   "id": "1d588b9f",
   "metadata": {},
   "source": [
    "## The effect on Gradient Descent:\n",
    "\n",
    "![scaled](scaled.png)\n",
    "- **Unscaled:** As the contours are large and skinny (top right), the gradient descent may end up bouncing backwards and forwards for a longer time. \n",
    "- **Scale Features:** Perform a transformation on the training data features so the scale for the feature axis are similar (bottom left). \n",
    "    - Rescaling the features, e.g. x1 and x2, means we are now taking comparible values for each feature\n",
    "    - In the contour graph to find the cost function J, the contours are more circular. (bottom right)\n",
    "    - The gradient descent finds a much more direct and quicker path to the global minimum"
   ]
  },
  {
   "cell_type": "markdown",
   "id": "d40e8c9d",
   "metadata": {},
   "source": [
    "## How to scale features (Normalisation)?\n",
    "\n",
    "### Divide Feature by max\n",
    "- Divide the feature by the maximum in its' range so the upper limit is 1\n",
    "![divide_max](divide_by_max_scale.png)\n",
    "\n",
    "### Mean Normalisation\n",
    "\n",
    "- Shifts features so the mean is around zero\n",
    "- Scales the feature by its' range so the interval is mapped usually to [-1,1]\n",
    "- Find the mean of the training data for each feature (meuw) and find the following:\n",
    "\n",
    "$$x_{new} = \\frac{x_{old} - \\mu}{max\\_range - min\\_range}$$\n",
    "\n",
    "- Subctracting by the mean shifts the centre around 0, so positive values are above the mean and negative are below\n",
    "\n",
    "![mean](mean_normal.png)\n",
    "\n",
    "\n",
    "### Z-Score Normalisation\n",
    "\n",
    "- Calculate the mean and the standard deviation to find the following:\n",
    "\n",
    "$$x_{new} = \\frac{x_{old} - \\mu}{\\sigma}$$\n",
    "\n",
    "![z_score](z_score.png)"
   ]
  },
  {
   "cell_type": "markdown",
   "id": "c718c356",
   "metadata": {},
   "source": [
    "## Scaling rule of thumb:\n",
    "![thumb](scaling_rule_thumb.png)\n",
    "Try make the range for the features small enough, so small parameter changes dont effect the cost function too much.  \n",
    "When in doubt, do the scaling.\n",
    "\n",
    "Feature scaling is useful when one feature is much larger (or smaller) than another feature."
   ]
  }
 ],
 "metadata": {
  "kernelspec": {
   "display_name": "Python [conda env:base] *",
   "language": "python",
   "name": "conda-base-py"
  },
  "language_info": {
   "codemirror_mode": {
    "name": "ipython",
    "version": 3
   },
   "file_extension": ".py",
   "mimetype": "text/x-python",
   "name": "python",
   "nbconvert_exporter": "python",
   "pygments_lexer": "ipython3",
   "version": "3.13.5"
  }
 },
 "nbformat": 4,
 "nbformat_minor": 5
}
