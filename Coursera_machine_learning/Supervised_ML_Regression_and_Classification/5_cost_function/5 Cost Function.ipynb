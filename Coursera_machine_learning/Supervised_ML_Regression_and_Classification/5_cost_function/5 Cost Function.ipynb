{
 "cells": [
  {
   "cell_type": "markdown",
   "id": "7e9488af",
   "metadata": {},
   "source": [
    "# Cost Function"
   ]
  },
  {
   "cell_type": "markdown",
   "id": "3a4ba379",
   "metadata": {},
   "source": [
    "## What is it?\n",
    "\n",
    "- Tells us how well the model is doing so we can try to improve it\n",
    "> **Parameters of a model:** The variables you can adjust during training in order to improve the model\n",
    "- Can also be referred to as **coefficients** or **weights**\n",
    "- Examples in linear regression:\n",
    "\n",
    "$$w: gradient$$\n",
    "$$b: y-intercept$$\n",
    "$$ f(x)=wx+b$$\n",
    "\n",
    "\n",
    "To find the cost function, we want to measure how well our linear function with parameters w and b fits the training data. "
   ]
  },
  {
   "cell_type": "markdown",
   "id": "9cc12bdb",
   "metadata": {},
   "source": [
    "## Cost Function for Linear Regression\n",
    "\n",
    "> **Errors (Residuals):** The difference between the estimated target $\\hat{y}$ and and the true target y\n",
    "\n",
    "![errors](errors.png)\n",
    "\n",
    "1. Calculate the residuals for training point i\n",
    "2. Square them:\n",
    "    - **Removing the sign:** no cancellation of positive and negative residuals.\n",
    "    - **Penalise Larger residuals:** emphasises large errors so the model finds a better fit.\n",
    "    - **Easier to Differentiate:** Without squaring, the error function would not be differentiable at zero.\n",
    "3. Sum all the residuals for all m training examples\n",
    "4. Divide by m to find the **Mean Squared Error**\n",
    "5. By convention, the cost function is divided by 2 to make calculations further down the line easier\n",
    "\n",
    "### Squared Error Cost Function:\n",
    "\n",
    "![reg_cost](regression_cost_function.png)\n",
    "- This is the most commonly used cost function for **all regression** models\n",
    "- We want to find values of the parameters (w,b) to reduce the cost function"
   ]
  },
  {
   "cell_type": "markdown",
   "id": "27799c59",
   "metadata": {},
   "source": [
    "### Aim\n",
    "\n",
    "$$\\min_{w,b} J(w,b)$$\n",
    "\n",
    "## Simplify the Cost Function\n",
    "\n",
    "Write the cost function with respect to each parameter by setting the other parameter to 0.\n",
    "Linear Regression example:\n",
    "\n",
    "With respect to w:\n",
    "$$f_{w}(x) = wx$$\n",
    "\n",
    "With respect to b:\n",
    "$$f_{b}(x) = b$$\n",
    "\n",
    "### Plot the Cost Function:\n",
    "\n",
    "\n",
    "With respect to w:\n",
    "\n",
    "$$\n",
    "J_{w}(x) = \\frac{1}{2m} \\sum_{i=0}^{m} \\bigl(wx_i - y_i\\bigr)^2\n",
    "$$\n",
    "\n",
    "And the training set of data points are from a perfectly linear graph (0,0), (1,1)...\n",
    "\n",
    "![cost_plot](cost_function_plotted.png)\n",
    "We can see the cost function is a parabola with a minimum.  \n",
    "What is the value of w that minimises $J(w)$?\n",
    "We see in the above that it is w=1\n",
    "\n",
    "Generally, what are the values of w and b that minimises J?"
   ]
  },
  {
   "cell_type": "markdown",
   "id": "842fa749",
   "metadata": {},
   "source": [
    "## Cost Function in 3D:\n",
    "![3d](3d_cost_function.png)"
   ]
  },
  {
   "cell_type": "markdown",
   "id": "d20670cf",
   "metadata": {},
   "source": [
    "> **Contour plot:** Shows the set of points on the 3D surface which are at the same height, so the same value for $J(w,b)$\n",
    "\n",
    "To get a contour plot, you take horizontal 'slices' of the 3D surface to get all the points that are at the same height, and you return with an oval or ellipse shape.\n",
    "\n",
    "![contour](contour_plot.png)\n",
    "\n",
    "The top right graph is the contour plot.\n",
    "The blue, orange and green points are all on the same contour, so they have the same value for J but with different w and b values.\n",
    "\n",
    "The center of the contour graph represents the minimum of J\n",
    "\n",
    "![cont_min](contour_min.png)\n",
    "\n",
    "INTERACTIVE CONTOUR PLOT IN LAB"
   ]
  }
 ],
 "metadata": {
  "kernelspec": {
   "display_name": "Python 3 (ipykernel)",
   "language": "python",
   "name": "python3"
  },
  "language_info": {
   "codemirror_mode": {
    "name": "ipython",
    "version": 3
   },
   "file_extension": ".py",
   "mimetype": "text/x-python",
   "name": "python",
   "nbconvert_exporter": "python",
   "pygments_lexer": "ipython3",
   "version": "3.9.12"
  }
 },
 "nbformat": 4,
 "nbformat_minor": 5
}
