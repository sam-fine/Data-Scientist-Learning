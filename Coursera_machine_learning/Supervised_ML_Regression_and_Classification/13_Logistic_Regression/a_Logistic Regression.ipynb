{
 "cells": [
  {
   "cell_type": "markdown",
   "id": "07d9cdce",
   "metadata": {},
   "source": [
    "# Logistic Regression"
   ]
  },
  {
   "cell_type": "markdown",
   "id": "7d93c7a0",
   "metadata": {},
   "source": [
    "- The model fits an s-shaped curve to the data  \n",
    "- It returns a value of 0.7 (left) that suggests more likely to be malignant (1) than benign (0) (for cancer cells).\n",
    "\n",
    "![sigmoid](sigmoid.png)\n",
    "\n",
    "## Sigmoid Function\n",
    "The sigmoid function produces the s-shape on a horizontal axis of negative and positive values, and a y-axis between 0 and 1\n",
    "- When z is large, the sigmoid function of z is close to 1\n",
    "- When z is small, the sigmoid function of z is close to 0\n",
    "- When z is 0, the sigmoid function of z is 0.5"
   ]
  },
  {
   "cell_type": "markdown",
   "id": "12b89b26",
   "metadata": {},
   "source": [
    "## Calculate z\n",
    "\n",
    "![z](calc_z.png)\n",
    "- Inputs features and outputs a number between 0 and 1"
   ]
  },
  {
   "cell_type": "markdown",
   "id": "f4045b24",
   "metadata": {},
   "source": [
    "## Interpretation of logistic regression output\n",
    "\n",
    "It tells us the probability that the category or output y is equal to 1, given a certain input x and parameters w and b.\n",
    "> $$f_{\\bar{w},b}(\\bar{x}) = P(y=1|\\bar{x}; \\bar{w},b)$$\n",
    "\n",
    "**Example:** \n",
    "- If the model outputs 0.7, then there is 70% chance that y is 1\n",
    "- This means the probability of y being 0 is 30%"
   ]
  },
  {
   "cell_type": "code",
   "execution_count": null,
   "id": "d935dca4",
   "metadata": {},
   "outputs": [],
   "source": []
  }
 ],
 "metadata": {
  "kernelspec": {
   "display_name": "Python 3 (ipykernel)",
   "language": "python",
   "name": "python3"
  },
  "language_info": {
   "codemirror_mode": {
    "name": "ipython",
    "version": 3
   },
   "file_extension": ".py",
   "mimetype": "text/x-python",
   "name": "python",
   "nbconvert_exporter": "python",
   "pygments_lexer": "ipython3",
   "version": "3.9.12"
  }
 },
 "nbformat": 4,
 "nbformat_minor": 5
}
