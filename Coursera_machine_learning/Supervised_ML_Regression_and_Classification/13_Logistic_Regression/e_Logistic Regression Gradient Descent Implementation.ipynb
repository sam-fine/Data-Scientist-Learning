{
 "cells": [
  {
   "cell_type": "markdown",
   "id": "089dd13b",
   "metadata": {},
   "source": [
    "# Gradient Descent Implementation for Logistic Regression"
   ]
  },
  {
   "cell_type": "markdown",
   "id": "20fc2724",
   "metadata": {},
   "source": [
    "We want to find the best choice for paramaters $\\bar{w}$ and b using the gradient descent algorithm.  \n",
    "After the paramaters have been found, we can use the model to find:\n",
    "\n",
    "The probability that y = 1 given $\\bar{x}$\n",
    "$$P(y=1|\\bar{x}; \\bar{w}, b)$$\n",
    "Where the probability is the prediction of the model:\n",
    "$$f_{\\bar{w},{b}}(\\bar{x}) = \\frac{1}{1+e^{-(\\bar{w}\\cdot\\bar{x} + b)}}$$\n",
    "\n"
   ]
  },
  {
   "cell_type": "markdown",
   "id": "17a82823",
   "metadata": {},
   "source": [
    "## Gradient Descent for Logistic Regression"
   ]
  },
  {
   "cell_type": "markdown",
   "id": "9ed79a03",
   "metadata": {},
   "source": [
    "![grad_logistic](grad_descent_for_log_reg.png)\n",
    "\n",
    "We can see that the differential equations look **EXACTLY** like the equations for linear regression.  \n",
    "However, the definitions of f are different for both:\n",
    "\n",
    "**Linear Regression:** $$f_{\\bar{w},{b}}(\\bar{x}) = \\bar{w}\\cdot\\bar{x} + b$$\n",
    "\n",
    "**Logistic Regression:** $$f_{\\bar{w},{b}}(\\bar{x}) = \\frac{1}{1+e^{-(\\bar{w}\\cdot\\bar{x} + b)}}$$\n",
    "\n",
    "So the equations differ because of f, but the same concepts are applied for gradient descent:\n",
    "\n",
    "- Monitor gradient descent using the learning curve\n",
    "- Vectorised implementation (so it runs faster, eg use the dot product)\n",
    "- Feature Scaling (scaling all features to take on similar ranges of values)"
   ]
  }
 ],
 "metadata": {
  "kernelspec": {
   "display_name": "Python 3 (ipykernel)",
   "language": "python",
   "name": "python3"
  },
  "language_info": {
   "codemirror_mode": {
    "name": "ipython",
    "version": 3
   },
   "file_extension": ".py",
   "mimetype": "text/x-python",
   "name": "python",
   "nbconvert_exporter": "python",
   "pygments_lexer": "ipython3",
   "version": "3.9.12"
  }
 },
 "nbformat": 4,
 "nbformat_minor": 5
}
