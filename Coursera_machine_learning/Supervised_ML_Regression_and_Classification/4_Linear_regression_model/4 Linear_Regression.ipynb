{
 "cells": [
  {
   "cell_type": "markdown",
   "id": "e25d16f5",
   "metadata": {},
   "source": [
    "# Linear Regression\n",
    "\n",
    "https://www.youtube.com/watch?v=VmbA0pi2cRQ\n",
    "\n",
    "I already created notes for linear regression, so I added any extras to these notes from the coursera course. (C)"
   ]
  },
  {
   "cell_type": "markdown",
   "id": "1001be99",
   "metadata": {},
   "source": [
    "\n",
    "## What is it?\n",
    "- (C) A supervised learning model using data that has corresponding 'correct' answers.\n",
    "- Any supervised model that predicts a number is addressing a regression problem.\n",
    "- Here we have infinitely many possible outputs (continuous)\n",
    "\n",
    "## What is it for?\n",
    "\n",
    "> **Regression:** Find the best function to visualise a data set\n",
    "\n",
    "Linear Regression aims to find  a linear function (line) that best fits the given points the best.  \n",
    "\n",
    "\n",
    "### Line of best fit\n",
    "\n",
    "![best_fit](best_fit.png)\n",
    "\n",
    "\n",
    "Some regression algorithms use different techniques (choose the one thats best for you)  \n",
    "- Some care about outliers more or less\n",
    "\n",
    "Linear regression finds a function that **Minimises the Errors**\n",
    "\n",
    "### Minimise the Errors:\n",
    "\n",
    "![errors](errors.png)\n"
   ]
  },
  {
   "cell_type": "markdown",
   "id": "e0c3be36",
   "metadata": {},
   "source": [
    "## Linear Function:"
   ]
  },
  {
   "cell_type": "markdown",
   "id": "5ff3b0ec",
   "metadata": {},
   "source": [
    "$$\n",
    "y = mx + b\n",
    "$$\n",
    "where  \n",
    "- $m$ = gradient  \n",
    "- $b$ = y-intercept  \n",
    "\n",
    "We want to produce m and b where for a given x, we get the best possible y to produce the least **Error**\n",
    "> **Error (residual):** The difference between the y value of the data point and the y value of the predicted data point.\n",
    "\n",
    "Above is a linear function with one variable.  \n",
    "(C) Another way of saying linear regression with one variable is **Univariate linear regression**"
   ]
  },
  {
   "cell_type": "markdown",
   "id": "7efd6f36",
   "metadata": {},
   "source": [
    "## Error Function\n",
    "\n",
    "### Mean Squared Error Function (MSE):\n",
    "$$\n",
    "E = \\frac{1}{n} \\sum_{i=0}^{n} \\bigl(y_i - (mx_i + b)\\bigr)^2\n",
    "$$\n",
    "\n",
    "where  \n",
    "$y_i$ = point i in the training data set  \n",
    "$n$ = total training points  \n",
    "\n",
    "- Sum all the squares of the errors (vertical lines in above diagram)\n",
    "- Divide by the total points, n, to get the mean \n",
    "\n",
    "### Why do we Square the error?\n",
    "\n",
    "- **Removing the sign:** no cancellation of positive and negative residuals.\n",
    "- **Penalise Larger residuals:** emphasises large errors so the model finds a better fit.\n",
    "- **Easier to Differentiate:** Without squaring, the error function would not be differentiable at zero."
   ]
  },
  {
   "cell_type": "markdown",
   "id": "8a563003",
   "metadata": {},
   "source": [
    "## Minimising Errors:\n",
    "> **Aim:** We want to find m and b which minimises E.\n",
    "\n",
    "### How to do this?\n",
    "Find the partial derivative with respect to m and b to find the gradient.\n",
    "> **Gradient:** Points in direction of the steepest ascent (increases the function the most)\n",
    "  \n",
    "To do this, we calculate the partial derivatives. (chain rule)\n",
    "\n",
    "$$\n",
    "\\frac{\\partial E}{\\partial m}\n",
    "= -\\frac{2}{n}\\sum_{i=1}^{n} x_i\\big(y_i - (m x_i + b)\\big) \n",
    "$$\n",
    "\n",
    "$$\n",
    "\\frac{\\partial E}{\\partial b}\n",
    "= -\\frac{2}{n}\\sum_{i=1}^{n} \\big(y_i - (m x_i + b)\\big)\n",
    "$$\n",
    "\n",
    "\n",
    "**Note:** If we found the second derivative it gives us the x values to get the minimum of the function, but not the m and b values.\n"
   ]
  },
  {
   "cell_type": "markdown",
   "id": "f2f61473",
   "metadata": {},
   "source": [
    "### Set Gradient to Zero Method:\n",
    "\n",
    "- Whenever the gradient is zero, we have a minimum of the function on the specific variable plane.  \n",
    "- When we set the derivatives to zero and solve for m and b, we have our minimum.  \n",
    "- However, when we have multiple variables (features), the derivatives become complicated and there may be multiple global minimums, so the next method will be used."
   ]
  },
  {
   "cell_type": "markdown",
   "id": "e8f3024f",
   "metadata": {},
   "source": [
    "## Gradient Descent Method\n",
    "\n",
    "> **Learning Rate (𝛼):** How big a step we take along the gradient on each iteration\n",
    "\n",
    "The negative of the derivatives point in the direction of the steepest descent, so in this direction, the function is decreasing the most.\n",
    "\n",
    "We want to minimise E, so we want to travel along the steepest descent for each variable (in each variable plane).\n",
    "\n",
    "After each iteration, we add the learning rate mutliplied by the steepest descent derivative (or subtract the steepest ascent)  from m and b.\n",
    "\n",
    "\n",
    "$$\n",
    "m = m - 𝛼\\frac{\\partial E}{\\partial m}  \n",
    "$$\n",
    "$$\n",
    "b = b - 𝛼\\frac{\\partial E}{\\partial b}\n",
    "$$\n",
    "\n",
    "**Larger 𝛼:** reach the minimum faster, but risk overshooting or diverging.  \n",
    "**Smaller 𝛼:** more precise convergence but takes longer.  \n",
    "\n",
    "For example, take a learning rate of 0.0001"
   ]
  },
  {
   "cell_type": "markdown",
   "id": "225a6104",
   "metadata": {},
   "source": [
    "## Mathematical Python Code"
   ]
  },
  {
   "cell_type": "code",
   "execution_count": 9,
   "id": "a9b77d9e",
   "metadata": {},
   "outputs": [
    {
     "data": {
      "image/png": "[encoded data removed]",
      "text/plain": [
       "<Figure size 432x288 with 1 Axes>"
      ]
     },
     "metadata": {
      "needs_background": "light"
     },
     "output_type": "display_data"
    }
   ],
   "source": [
    "import pandas as pd\n",
    "import matplotlib.pyplot as plt\n",
    "\n",
    "# Import data\n",
    "data = pd.read_csv('train.csv')\n",
    "plt.scatter(data.x, data.y)\n",
    "plt.show()"
   ]
  },
  {
   "cell_type": "code",
   "execution_count": null,
   "id": "4653647a",
   "metadata": {},
   "outputs": [],
   "source": [
    "# Loss Function/ Mean squared error function (Minimise this)\n",
    "\n",
    "def loss_function(m, b, data_points):\n",
    "    total_error = 0\n",
    "    # add each individual error and divide by total data points\n",
    "    for i in range(len(data_points)):\n",
    "        x = data_points.iloc[i].x\n",
    "        y = data_points.iloc[i].y\n",
    "        total_error += (y - (m*x + b))^2\n",
    "    total_error / float(len(data_points))\n",
    "    \n",
    "# Note: we will not use the above loss function\n",
    "# We are only interested in minimising it and thus using the loss function's derivative\n",
    "# Above can be used to find the loss manually"
   ]
  },
  {
   "cell_type": "code",
   "execution_count": 11,
   "id": "f6cf1112",
   "metadata": {},
   "outputs": [
    {
     "name": "stdout",
     "output_type": "stream",
     "text": [
      "Iteration: 0\n",
      "Iteration: 50\n",
      "Iteration: 100\n",
      "Iteration: 150\n",
      "Iteration: 200\n",
      "Iteration: 250\n",
      "0.9988959024017271 0.013271968592368838\n"
     ]
    },
    {
     "data": {
      "image/png": "[encoded data removed]",
      "text/plain": [
       "<Figure size 432x288 with 1 Axes>"
      ]
     },
     "metadata": {
      "needs_background": "light"
     },
     "output_type": "display_data"
    }
   ],
   "source": [
    "# Gradient Descent (Derivative)\n",
    "\n",
    "def gradient_descent(m_now, b_now, data_points, L):\n",
    "    # L = 𝛼 (learning rate)\n",
    "    # start at 0 as we want the smallest m and b values\n",
    "    m_gradient = 0\n",
    "    b_gradient = 0\n",
    "    \n",
    "    n = len(data_points)\n",
    "    \n",
    "    # Use the partial derivative functions and find the sum over all data points:\n",
    "    for i in range(n):\n",
    "        x = data_points.iloc[i].x\n",
    "        y = data_points.iloc[i].y\n",
    "   \n",
    "        m_gradient += -(2/n) * x * (y - (m_now * x + b_now))\n",
    "        b_gradient += -(2/n) * (y - (m_now * x + b_now))\n",
    "\n",
    "    m = m_now - m_gradient * L\n",
    "    b = b_now - b_gradient * L\n",
    "    return m, b\n",
    "\n",
    "m = 0\n",
    "b = 0\n",
    "L = 0.0001\n",
    "iterations = 300\n",
    "\n",
    "# Keep iterating in the direction of steepest descent until we find the minimum for m and b\n",
    "for i in range(iterations):\n",
    "    if i % 50 == 0:\n",
    "        print(f\"Iteration: {i}\")\n",
    "    m, b = gradient_descent(m, b, data, L)\n",
    "    \n",
    "print(m,b)\n",
    "# plot original data\n",
    "plt.scatter(data.x, data.y, color=\"black\")\n",
    "# plot predicted line (x values range from 0,100 in the data set)\n",
    "plt.plot(list(range(-5, 105)), [m * x + b for x in range(-5, 105)], color=\"red\")\n",
    "plt.show()"
   ]
  },
  {
   "cell_type": "markdown",
   "id": "e66a1d93",
   "metadata": {},
   "source": [
    "## Sklearn Library\n",
    "\n",
    "https://www.youtube.com/watch?v=8jazNUpO3lQ"
   ]
  },
  {
   "cell_type": "code",
   "execution_count": 14,
   "id": "b941c1f1",
   "metadata": {},
   "outputs": [],
   "source": [
    "import pandas as pd\n",
    "import numpy as np\n",
    "import matplotlib.pyplot as plt\n",
    "from sklearn.linear_model import LinearRegression"
   ]
  },
  {
   "cell_type": "markdown",
   "id": "7f88d20d",
   "metadata": {},
   "source": [
    "### Training the Model"
   ]
  },
  {
   "cell_type": "code",
   "execution_count": 18,
   "id": "70a4b604",
   "metadata": {},
   "outputs": [
    {
     "data": {
      "text/plain": [
       "LinearRegression()"
      ]
     },
     "execution_count": 18,
     "metadata": {},
     "output_type": "execute_result"
    }
   ],
   "source": [
    "# Create linear regression object\n",
    "model = LinearRegression()\n",
    "# fit the data (train the model)\n",
    "train = pd.read_csv('train.csv')\n",
    "# first argument is a 2-D array for all the features (x values). \n",
    "# second argument is the y values\n",
    "model.fit(train[['x']], train.y)"
   ]
  },
  {
   "cell_type": "code",
   "execution_count": 20,
   "id": "c441e82d",
   "metadata": {},
   "outputs": [
    {
     "name": "stderr",
     "output_type": "stream",
     "text": [
      "C:\\Users\\samfi\\anaconda3\\Lib\\site-packages\\sklearn\\base.py:450: UserWarning: X does not have valid feature names, but LinearRegression was fitted with feature names\n",
      "  warnings.warn(\n"
     ]
    },
    {
     "data": {
      "text/plain": [
       "array([44.92707225])"
      ]
     },
     "execution_count": 20,
     "metadata": {},
     "output_type": "execute_result"
    }
   ],
   "source": [
    "# Using the model, predict for a given x (needs to be 2-D)\n",
    "model.predict([[45]])"
   ]
  },
  {
   "cell_type": "code",
   "execution_count": 24,
   "id": "6c027848",
   "metadata": {},
   "outputs": [
    {
     "name": "stdout",
     "output_type": "stream",
     "text": [
      "m = [1.00057739]\n",
      "b = -0.09891029338146495\n",
      "y = mx + b = [44.92707225]\n"
     ]
    }
   ],
   "source": [
    "# Find the gradient m (coefficient of x) and the y-intercept b\n",
    "m = model.coef_\n",
    "b = model.intercept_\n",
    "print(f\"m = {m}\")\n",
    "print(f\"b = {b}\")\n",
    "\n",
    "print(f\"y = mx + b = {m*45 + b}\")"
   ]
  },
  {
   "cell_type": "code",
   "execution_count": 28,
   "id": "68efec87",
   "metadata": {},
   "outputs": [
    {
     "data": {
      "image/png": "[encoded data removed]",
      "text/plain": [
       "<Figure size 432x288 with 1 Axes>"
      ]
     },
     "metadata": {
      "needs_background": "light"
     },
     "output_type": "display_data"
    }
   ],
   "source": [
    "plt.scatter(train.x, train.y, color=\"blue\")\n",
    "plt.plot(train.x, model.predict(train[['x']]), color=\"red\")\n",
    "plt.show()"
   ]
  },
  {
   "cell_type": "markdown",
   "id": "6cb14116",
   "metadata": {},
   "source": [
    "### Test Data\n",
    "\n",
    "When creating a model, we need to check reliability of it.  \n",
    "We split the data into:\n",
    "- **Training data:** to fit the model\n",
    "- **Test Data:** to test the model\n",
    "\n",
    "> **Test Size:** Percentage of data points in the test data (e.g. 0.2 or 20%)"
   ]
  },
  {
   "cell_type": "code",
   "execution_count": 49,
   "id": "53d5ea89",
   "metadata": {},
   "outputs": [],
   "source": [
    "from sklearn.model_selection import train_test_split\n",
    "all_data = pd.read_csv(\"all_data.csv\")"
   ]
  },
  {
   "cell_type": "code",
   "execution_count": 50,
   "id": "07924f67",
   "metadata": {},
   "outputs": [],
   "source": [
    "# split the data into training and test\n",
    "# Random state ensures the split is consistent each time (same data in both groups)\n",
    "x_train, x_test, y_train, y_test = train_test_split(all_data[['x']], all_data.y, test_size=0.2, random_state=42)"
   ]
  },
  {
   "cell_type": "code",
   "execution_count": 51,
   "id": "5fef2474",
   "metadata": {},
   "outputs": [
    {
     "data": {
      "text/plain": [
       "LinearRegression()"
      ]
     },
     "execution_count": 51,
     "metadata": {},
     "output_type": "execute_result"
    }
   ],
   "source": [
    "# Train the model\n",
    "model = LinearRegression()\n",
    "model.fit(x_train, y_train)"
   ]
  },
  {
   "cell_type": "markdown",
   "id": "4c800355",
   "metadata": {},
   "source": [
    "## $R^2$\n",
    "To Test the model, we calculate:\n",
    "> **$R^2$:** The coefficient of determination. How well the model's predictions match the true values compared to just using the mean.\n",
    "\n",
    "$$\n",
    "R^2 = 1 - \\frac{Sum\\_Squared\\_Errors\\_(SSE)}{Total\\_Sum\\_Squares\\_(SST)}\n",
    "$$\n",
    "\n",
    "$$\n",
    "R^2 = 1 - \\frac{\\sum_i (y_i - \\hat{y}_i)^2}{\\sum_i (y_i - \\bar{y})^2}\n",
    "$$\n",
    "\n",
    "\n",
    "\n",
    "Where\n",
    "$$ 0\\le R^2 \\le 1$$\n",
    "\n",
    "$$\n",
    "\\hat{y}_i \\; (\\text{y-hat}) = \\text{the predicted value for point } i \\text{ from your model.}\n",
    "$$  \n",
    "\n",
    "$$\n",
    "\\bar{y} \\; (\\text{y-bar}) = \\text{the mean of all actual } y \\text{ values in the dataset.}\n",
    "$$\n",
    "\n",
    "Basically $R^2$ tells you how much better your model is compared to just guessing the average.  \n",
    "So, the smaller SSE is and the larger SST is, the more reliable the model.  \n",
    "\n",
    "- $R^2$ = 1: perfect fit\n",
    "- $R^2$ = 0: model predicts no better than the mean of the y values\n",
    "- $R^2$ < 0: model is worse than the mean of the y values\n",
    "\n",
    "So the closer to 1, the more reliable the prediction.  \n",
    "We use the test data:"
   ]
  },
  {
   "cell_type": "code",
   "execution_count": 52,
   "id": "ab843406",
   "metadata": {},
   "outputs": [
    {
     "name": "stdout",
     "output_type": "stream",
     "text": [
      "R^2 = 0.9889278781589358\n",
      "This is very close to 1 so the model is reliable\n"
     ]
    }
   ],
   "source": [
    "# score is the r squared\n",
    "print(f\"R^2 = {model.score(x_test, y_test)}\")\n",
    "print('This is very close to 1 so the model is reliable')"
   ]
  },
  {
   "cell_type": "code",
   "execution_count": 54,
   "id": "d33ade2c",
   "metadata": {},
   "outputs": [
    {
     "name": "stdout",
     "output_type": "stream",
     "text": [
      "RMSE: 3.0034142769341776\n"
     ]
    }
   ],
   "source": [
    "# Find the RMSE (how far the model's predictions are from the true values)\n",
    "from sklearn.metrics import mean_squared_error\n",
    "\n",
    "y_predict = model.predict(x_test)\n",
    "mse = mean_squared_error(y_test, y_predict)\n",
    "rmse = np.sqrt(mse)\n",
    "print(f'RMSE: {rmse}')\n",
    "# Same units as y\n",
    "# smaller the better"
   ]
  },
  {
   "cell_type": "markdown",
   "id": "9a8bc650",
   "metadata": {},
   "source": [
    "## Multi-Linear Regression\n",
    "\n",
    "We want to minimise the MSE function while having multiple features (independent variables).  \n",
    "The Mean Squared Error function (MSE) becomes: \n",
    "\n",
    "$$\n",
    "E = \\frac{1}{n} \\sum_{i=1}^{n} \\Bigg(y_i - \\big(b + m_1 x_{i1} + m_2 x_{i2} + \\dots + m_p x_{ip}\\big)\\Bigg)^2\n",
    "$$\n",
    "\n",
    "Where: \n",
    "- $n$ = number of data points  \n",
    "- $p$ = number of features  \n",
    "- $y_i$ = true target for point \\(i\\)  \n",
    "- $x_{ij}$ = value of feature \\(j\\) for point \\(i\\)  \n",
    "- $m_j$ = coefficient for feature \\(j\\)  \n",
    "- $b$ = intercept\n"
   ]
  },
  {
   "cell_type": "code",
   "execution_count": 55,
   "id": "353b51e1",
   "metadata": {},
   "outputs": [
    {
     "name": "stdout",
     "output_type": "stream",
     "text": [
      "   Year  Sudden_Deaths  Chronic_Illness  Youth_Deaths  Counseling_Hours\n",
      "0  2015            370             1500           340             11800\n",
      "1  2016            365             1450           330             11500\n",
      "2  2017            355             1380           325             11100\n",
      "3  2018            340             1290           310             10650\n",
      "4  2019            335             1250           300             10300\n",
      "5  2020            320             1150           280              9800\n",
      "6  2021            310              950           230              9400\n",
      "7  2022            300              800           200              9000\n"
     ]
    }
   ],
   "source": [
    "# Multiple features:\n",
    "data = {\n",
    "    \"Year\": [2015, 2016, 2017, 2018, 2019, 2020, 2021, 2022],\n",
    "    \"Sudden_Deaths\":     [370, 365, 355, 340, 335, 320, 310, 300],\n",
    "    \"Chronic_Illness\":   [1500, 1450, 1380, 1290, 1250, 1150, 950, 800],\n",
    "    \"Youth_Deaths\":      [340, 330, 325, 310, 300, 280, 230, 200],\n",
    "    \"Counseling_Hours\":  [11800, 11500, 11100, 10650, 10300, 9800, 9400, 9000]\n",
    "}\n",
    "df = pd.DataFrame(data)\n",
    "print(df)\n"
   ]
  },
  {
   "cell_type": "code",
   "execution_count": 56,
   "id": "ca3189f0",
   "metadata": {},
   "outputs": [
    {
     "name": "stdout",
     "output_type": "stream",
     "text": [
      "\n",
      " Prediction for new data:\n",
      "   Sudden_Deaths  Chronic_Illness  Youth_Deaths\n",
      "0            300             1500            50\n",
      "Predicted Counselling Hours: 9818.35\n"
     ]
    }
   ],
   "source": [
    "X = df[[\"Sudden_Deaths\", \"Chronic_Illness\", \"Youth_Deaths\"]]\n",
    "y = df[\"Counseling_Hours\"]\n",
    "\n",
    "# Same as before\n",
    "model = LinearRegression()\n",
    "model.fit(X, y)\n",
    "\n",
    "# With big data, we can split into training and test for improved validity of model.\n",
    "# X_train, X_test, y_train, y_test = train_test_split(X, y, test_size=0.25, random_state=42)\n",
    "\n",
    "# Predictions\n",
    "y_pred = model.predict(X)\n",
    "\n",
    "new_data = pd.DataFrame({\n",
    "    \"Sudden_Deaths\": [300],\n",
    "    \"Chronic_Illness\": [1500],\n",
    "    \"Youth_Deaths\": [50]\n",
    "})\n",
    "\n",
    "predicted_value = model.predict(new_data)[0]\n",
    "\n",
    "print('\\n Prediction for new data:')\n",
    "print(new_data)\n",
    "print(f\"Predicted Counselling Hours: {predicted_value:.2f}\")"
   ]
  },
  {
   "cell_type": "code",
   "execution_count": 57,
   "id": "f2942f0c",
   "metadata": {},
   "outputs": [
    {
     "name": "stdout",
     "output_type": "stream",
     "text": [
      "R squared: 0.9971226876688729\n",
      "RMSE: 50.3092764435689\n"
     ]
    }
   ],
   "source": [
    "##Reliability:\n",
    "\n",
    "#R squared (closer to 1, the more reliable):\n",
    "r_squared = model.score(X,y)\n",
    "print(f'R squared: {r_squared}')\n",
    "# Root Mean Squared Error: RMSE (smaller the better-in target units)\n",
    "mse = mean_squared_error(y, y_pred)\n",
    "rmse = np.sqrt(mse)\n",
    "print(f'RMSE: {rmse}')"
   ]
  },
  {
   "cell_type": "code",
   "execution_count": 58,
   "id": "95b66955",
   "metadata": {},
   "outputs": [
    {
     "data": {
      "image/png": "[encoded data removed]",
      "text/plain": [
       "<Figure size 432x288 with 1 Axes>"
      ]
     },
     "metadata": {
      "needs_background": "light"
     },
     "output_type": "display_data"
    },
    {
     "name": "stdout",
     "output_type": "stream",
     "text": [
      "Prediction returns 9818.35 counselling hours\n"
     ]
    }
   ],
   "source": [
    "plt.plot(df.Year, df.Counseling_Hours, label=\"Actual\", marker='x', linestyle='--')\n",
    "plt.plot(df.Year, y_pred, label=\"Predicted Counseling Hours\", marker='x', linestyle='--')\n",
    "# not linear because we have multiple variables\n",
    "plt.axhline(y=predicted_value, color='red', linestyle='dashed', label=f\"Predicted: {int(predicted_value)}\")\n",
    "plt.xlabel(\"Year\")\n",
    "plt.ylabel(\"Counseling Hours\")\n",
    "plt.title(\"Actual and Predicted Counseling Hours\")\n",
    "plt.legend()\n",
    "plt.grid(True)\n",
    "plt.show()\n",
    "\n",
    "print('Prediction returns 9818.35 counselling hours')"
   ]
  }
 ],
 "metadata": {
  "kernelspec": {
   "display_name": "Python 3 (ipykernel)",
   "language": "python",
   "name": "python3"
  },
  "language_info": {
   "codemirror_mode": {
    "name": "ipython",
    "version": 3
   },
   "file_extension": ".py",
   "mimetype": "text/x-python",
   "name": "python",
   "nbconvert_exporter": "python",
   "pygments_lexer": "ipython3",
   "version": "3.9.12"
  }
 },
 "nbformat": 4,
 "nbformat_minor": 5
}
