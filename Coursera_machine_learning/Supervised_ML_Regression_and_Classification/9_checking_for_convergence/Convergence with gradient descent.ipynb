{
 "cells": [
  {
   "cell_type": "markdown",
   "id": "2b113234",
   "metadata": {},
   "source": [
    "# Convergence"
   ]
  },
  {
   "cell_type": "markdown",
   "id": "128cd757",
   "metadata": {},
   "source": [
    "> How to check if the algorithm is producing parameters that are getting closer to the global minimum of the cost function\n",
    "\n",
    "### Convergence for Gradient Descent\n",
    "- Plot the value of $J(w,b)$ after each iteration, horizontal axis is total iterations of gradient descent\n",
    "- This curve is called the **learning curve**\n",
    "- If converging correctly, the cost J should decrease after every iteration.\n",
    "    - If not, it suggest alpha is chosen poorly (too large) or there is a big in the code\n",
    "\n",
    "![learning_curve](learning_curve.png)\n",
    "    \n",
    "- You can see above that at approximately 300 iterations, the cost levels off, and at 400, it is constant\n",
    "- The learning curve tells us when we can stop training our model\n",
    "\n",
    "### Automatic Convergence Test\n",
    "\n",
    "Let $\\epsilon = 10^{-3}$ \n",
    "\n",
    "If:\n",
    "$$J(w,b) \\leq \\epsilon$$\n",
    "in one iteration, then declare **convergence**"
   ]
  }
 ],
 "metadata": {
  "kernelspec": {
   "display_name": "Python 3 (ipykernel)",
   "language": "python",
   "name": "python3"
  },
  "language_info": {
   "codemirror_mode": {
    "name": "ipython",
    "version": 3
   },
   "file_extension": ".py",
   "mimetype": "text/x-python",
   "name": "python",
   "nbconvert_exporter": "python",
   "pygments_lexer": "ipython3",
   "version": "3.9.12"
  }
 },
 "nbformat": 4,
 "nbformat_minor": 5
}
