{
 "cells": [
  {
   "cell_type": "markdown",
   "id": "4931c3d1",
   "metadata": {},
   "source": [
    "# ML Terminology"
   ]
  },
  {
   "cell_type": "markdown",
   "id": "6973ac26",
   "metadata": {},
   "source": [
    "## Training Data\n",
    "![terminology](terminolgy.png)"
   ]
  },
  {
   "cell_type": "markdown",
   "id": "04efb137",
   "metadata": {},
   "source": [
    "\n",
    "## Model Flow\n",
    "![flow](model_flow.png)\n",
    "\n",
    "- Feed the training set of input **features** and output **targets** to the learning algorithm\n",
    "- Learning algorithm will produce a **function (f)**\n",
    "- f takes an input feature (x) and outputs a prediction ($\\hat{y}$) (estimated value of y - target)\n",
    "- The function, f is called the **model**"
   ]
  }
 ],
 "metadata": {
  "kernelspec": {
   "display_name": "Python 3 (ipykernel)",
   "language": "python",
   "name": "python3"
  },
  "language_info": {
   "codemirror_mode": {
    "name": "ipython",
    "version": 3
   },
   "file_extension": ".py",
   "mimetype": "text/x-python",
   "name": "python",
   "nbconvert_exporter": "python",
   "pygments_lexer": "ipython3",
   "version": "3.9.12"
  }
 },
 "nbformat": 4,
 "nbformat_minor": 5
}
