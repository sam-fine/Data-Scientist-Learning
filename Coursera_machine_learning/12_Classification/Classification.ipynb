{
 "cells": [
  {
   "cell_type": "markdown",
   "id": "9136cb89",
   "metadata": {},
   "source": [
    "# Classification Introduction"
   ]
  },
  {
   "cell_type": "markdown",
   "id": "52136b83",
   "metadata": {},
   "source": [
    "> **Classification:** output variable y can take on one of a specific range of numbers, rather than infinitely many \n",
    "\n",
    "**Example:** Logistic Regression\n",
    "\n",
    "\n",
    "> **Binary Classification:** When there are two possible **categories** or **classes**.\n",
    ">> Categories can be: [1,0], [True,False], [yes,no]  \n",
    ">> **negative class (absence):** False or 0 class:   \n",
    ">> **Positive Class (presence):** True or 1 class:\n",
    "\n",
    "![eg](classification_eg.png)\n",
    "\n",
    "You can have more than 3 possible categories:\n",
    "![3_eg](classification_3_outputs_eg.png)"
   ]
  },
  {
   "cell_type": "markdown",
   "id": "48efe6c8",
   "metadata": {},
   "source": [
    "What happens if we use linear regression as a classification model with the following threshold:  \n",
    "- if $f_{w,b}(x) < 0.5$ then $\\hat{y}$ = 0  \n",
    "- if $f_{w,b}(x) > 0.5$ then $\\hat{y}$ = 1\n",
    "\n",
    "![lin_class](linear_reg_class.png)\n",
    "Data point at x=3 is being incorrectly predicted!  \n",
    "Linear Regresssion is insufficient"
   ]
  }
 ],
 "metadata": {
  "kernelspec": {
   "display_name": "Python 3 (ipykernel)",
   "language": "python",
   "name": "python3"
  },
  "language_info": {
   "codemirror_mode": {
    "name": "ipython",
    "version": 3
   },
   "file_extension": ".py",
   "mimetype": "text/x-python",
   "name": "python",
   "nbconvert_exporter": "python",
   "pygments_lexer": "ipython3",
   "version": "3.9.12"
  }
 },
 "nbformat": 4,
 "nbformat_minor": 5
}
