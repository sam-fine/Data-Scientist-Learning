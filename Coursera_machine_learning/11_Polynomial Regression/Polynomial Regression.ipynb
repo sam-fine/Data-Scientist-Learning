{
 "cells": [
  {
   "cell_type": "markdown",
   "id": "0a7cf971",
   "metadata": {},
   "source": [
    "# Polynomial Regression"
   ]
  },
  {
   "cell_type": "markdown",
   "id": "ae5f725a",
   "metadata": {},
   "source": [
    "> Fitting a curve to the data\n",
    "\n",
    "## Examples:\n",
    "**Quadratic:**\n",
    "$$f_{\\bar{w}{b}}(\\bar{x}) = w_{1}x + w_{2}x^{2} + b $$\n",
    "\n",
    "Where x is a single feature.  \n",
    "A quadratic function has a min or max, so we may not want the function to curve like this, so we may suggest a cubic:\n",
    "\n",
    "**Cubic:**\n",
    "$$f_{\\bar{w}{b}}(\\bar{x}) = w_{1}x + w_{2}x^{2} + w_{3}x^{3} + b $$\n",
    "\n",
    "**Square Root:**\n",
    "$$f_{\\bar{w}{b}}(\\bar{x}) = w_{1}x + w_{2}\\sqrt{x} + b $$\n",
    "\n",
    "- Never really flattens out\n",
    "- Always increases\n",
    "\n",
    "**Note:** As you raise a feature to a higher power, feature scaling becomes increasingly important"
   ]
  },
  {
   "cell_type": "code",
   "execution_count": null,
   "id": "29f03cdf",
   "metadata": {},
   "outputs": [],
   "source": []
  }
 ],
 "metadata": {
  "kernelspec": {
   "display_name": "Python 3 (ipykernel)",
   "language": "python",
   "name": "python3"
  },
  "language_info": {
   "codemirror_mode": {
    "name": "ipython",
    "version": 3
   },
   "file_extension": ".py",
   "mimetype": "text/x-python",
   "name": "python",
   "nbconvert_exporter": "python",
   "pygments_lexer": "ipython3",
   "version": "3.9.12"
  }
 },
 "nbformat": 4,
 "nbformat_minor": 5
}
