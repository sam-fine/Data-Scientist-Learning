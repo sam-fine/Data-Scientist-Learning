{
 "cells": [
  {
   "cell_type": "markdown",
   "id": "c412f71b",
   "metadata": {},
   "source": [
    "# Supervised Learning"
   ]
  },
  {
   "cell_type": "markdown",
   "id": "ab6809ae",
   "metadata": {},
   "source": [
    "## What is it?\n",
    "\n",
    "- Algorithms that learn $X \\rightarrow Y$ or, $Input \\rightarrow Output$ mappings  \n",
    "- The data is **labeled**\n",
    "\n",
    "\n",
    "- For Supervised algorithms, you would initialy train your models with inputs X and their corresponding **correct** outputs, Y.\n",
    "- Algorithm ends up being able to take inputs of X and give an accurate prediction for the corresponding Y\n"
   ]
  },
  {
   "cell_type": "markdown",
   "id": "c9b9f302",
   "metadata": {},
   "source": [
    "## Real world Examples:\n",
    "![real_world](supervised_learning_real_world_egs.png)"
   ]
  },
  {
   "cell_type": "markdown",
   "id": "f93d1270",
   "metadata": {},
   "source": [
    "## Supervised learning algorithm examples:\n",
    "\n",
    "### Regression: \n",
    "- Find the appropriate line for a given set of data points. \n",
    "    - Can be linear, curved or any other function.\n",
    "- It predicts a number with infinitely many possible outputs (continuous)\n",
    "    - e.g. predict house price Y from the input total square feet of house X, so we can have infinite Y values here but we predict one value\n",
    "\n",
    "![reg_eg](regression_eg.png)"
   ]
  },
  {
   "cell_type": "markdown",
   "id": "1ef2d27d",
   "metadata": {},
   "source": [
    "## Classification:\n",
    "- Predicts discrete **categories** or **classes** (same thing)\n",
    "    - Can be numeric or non-numeric, like a binary output, 1 or 0 or benign or malignant lump\n",
    "- It predicts a category from a small, finite set of possible categories (outputs) \n",
    "- You can plot classification problems in two or one dimensions:\n",
    "\n",
    "![classif](classification_eg.png)"
   ]
  },
  {
   "cell_type": "markdown",
   "id": "80b60ab6",
   "metadata": {},
   "source": [
    "- You may have more than two output **categories** or **classes** \n",
    "\n",
    "![3_outputs](classification_3_outputs_eg.png)"
   ]
  },
  {
   "cell_type": "markdown",
   "id": "7365507b",
   "metadata": {},
   "source": [
    "- You can use more than one input value\n",
    "- Say you have two inputs (a tumor size and age in yellow). How does the learning algorithm predict the output?\n",
    "    - One way is for it to work out how to fit a boundary line (pink) to the data (output is benign)\n",
    "![two_inputs](classification_more_than_one_input.png)    \n",
    "    \n",
    "- **Note:** You can have many more inputs in many ML algorithms"
   ]
  }
 ],
 "metadata": {
  "kernelspec": {
   "display_name": "Python 3 (ipykernel)",
   "language": "python",
   "name": "python3"
  },
  "language_info": {
   "codemirror_mode": {
    "name": "ipython",
    "version": 3
   },
   "file_extension": ".py",
   "mimetype": "text/x-python",
   "name": "python",
   "nbconvert_exporter": "python",
   "pygments_lexer": "ipython3",
   "version": "3.9.12"
  }
 },
 "nbformat": 4,
 "nbformat_minor": 5
}
