{
 "cells": [
  {
   "cell_type": "markdown",
   "id": "68f320d5",
   "metadata": {},
   "source": [
    "# Unsupervised Learning"
   ]
  },
  {
   "cell_type": "markdown",
   "id": "c6578be1",
   "metadata": {},
   "source": [
    "## What is it?\n",
    "- Input data X is **NOT** associated with any output **labels** Y\n",
    "    - e.g. it is not given if a tumor is benign or malignant (only triangles for all inputs below)\n",
    "- The aim of unsupervised learning is to find a structure or pattern in the **unlabeled** data\n",
    "- We do not 'supervise' the algorithm to give a 'correct' answer for every input. We ask the algorithm to work it out for itself\n",
    "\n",
    "### Supervised vs Unsupervised Learning\n",
    "![un_vs_sup](supervised_vs_unsupervised.png)"
   ]
  },
  {
   "cell_type": "markdown",
   "id": "025ad9b2",
   "metadata": {},
   "source": [
    "## Unsupervised Learning Examples:\n",
    "\n",
    "### Clustering\n",
    "- The algorithm figures out on its own what the **clusters** (groups) are for the data. This is an unsupervised clustering learning algorithm\n",
    "- e.g. clustering groups of customers (market segmentation)\n",
    "\n",
    "![clustering_eg](clustering_eg.png)"
   ]
  },
  {
   "cell_type": "markdown",
   "id": "84231f31",
   "metadata": {},
   "source": [
    "### Anomaly Detection\n",
    "\n",
    "- Finding unusual events (e.g. fraud transactions)"
   ]
  },
  {
   "cell_type": "markdown",
   "id": "50974edc",
   "metadata": {},
   "source": [
    "### Dimensionality Reduction\n",
    "- Compresses large dataset into smaller dataset while using as little information as possible"
   ]
  },
  {
   "cell_type": "markdown",
   "id": "a60f120f",
   "metadata": {},
   "source": [
    "Above examples are explained later in the course"
   ]
  }
 ],
 "metadata": {
  "kernelspec": {
   "display_name": "Python 3 (ipykernel)",
   "language": "python",
   "name": "python3"
  },
  "language_info": {
   "codemirror_mode": {
    "name": "ipython",
    "version": 3
   },
   "file_extension": ".py",
   "mimetype": "text/x-python",
   "name": "python",
   "nbconvert_exporter": "python",
   "pygments_lexer": "ipython3",
   "version": "3.9.12"
  }
 },
 "nbformat": 4,
 "nbformat_minor": 5
}
