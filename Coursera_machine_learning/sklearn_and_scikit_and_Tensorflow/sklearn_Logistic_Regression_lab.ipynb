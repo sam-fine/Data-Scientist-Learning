{
 "cells": [
  {
   "cell_type": "markdown",
   "id": "7f5aff0a",
   "metadata": {},
   "source": [
    "# Ungraded Lab:  Logistic Regression using Scikit-Learn\n",
    "\n",
    "\n"
   ]
  },
  {
   "cell_type": "markdown",
   "id": "9ac5b257",
   "metadata": {},
   "source": [
    "## Goals\n",
    "In this lab you will:\n",
    "-  Train a logistic regression model using scikit-learn.\n"
   ]
  },
  {
   "cell_type": "markdown",
   "id": "a0662d98",
   "metadata": {},
   "source": [
    "## Dataset \n",
    "Let's start with the same dataset as before."
   ]
  },
  {
   "cell_type": "code",
   "execution_count": 1,
   "id": "595c9f08",
   "metadata": {},
   "outputs": [],
   "source": [
    "import numpy as np\n",
    "\n",
    "X = np.array([[0.5, 1.5], [1,1], [1.5, 0.5], [3, 0.5], [2, 2], [1, 2.5]])\n",
    "y = np.array([0, 0, 0, 1, 1, 1])"
   ]
  },
  {
   "cell_type": "markdown",
   "id": "0a210ab6",
   "metadata": {},
   "source": [
    "## Fit the model\n",
    "\n",
    "The code below imports the [logistic regression model](https://scikit-learn.org/stable/modules/generated/sklearn.linear_model.LogisticRegression.html#sklearn.linear_model.LogisticRegression) from scikit-learn. You can fit this model on the training data by calling `fit` function."
   ]
  },
  {
   "cell_type": "code",
   "execution_count": 2,
   "id": "00822af9",
   "metadata": {},
   "outputs": [
    {
     "data": {
      "text/plain": [
       "LogisticRegression()"
      ]
     },
     "execution_count": 2,
     "metadata": {},
     "output_type": "execute_result"
    }
   ],
   "source": [
    "from sklearn.linear_model import LogisticRegression\n",
    "\n",
    "lr_model = LogisticRegression()\n",
    "lr_model.fit(X, y)"
   ]
  },
  {
   "cell_type": "markdown",
   "id": "b9be540b",
   "metadata": {},
   "source": [
    "## Make Predictions\n",
    "\n",
    "You can see the predictions made by this model by calling the `predict` function."
   ]
  },
  {
   "cell_type": "code",
   "execution_count": 3,
   "id": "d57dc641",
   "metadata": {},
   "outputs": [
    {
     "name": "stdout",
     "output_type": "stream",
     "text": [
      "Prediction on training set: [0 0 0 1 1 1]\n"
     ]
    }
   ],
   "source": [
    "y_pred = lr_model.predict(X)\n",
    "\n",
    "print(\"Prediction on training set:\", y_pred)"
   ]
  },
  {
   "cell_type": "markdown",
   "id": "9cdd8609",
   "metadata": {},
   "source": [
    "## Probability Predictions\n",
    "You can also see the absolute probabililties the model predicts.  \n",
    "The above is calculated after the model converts probabilities into discrete classes using a threshold (default is 0.5)"
   ]
  },
  {
   "cell_type": "code",
   "execution_count": 5,
   "id": "b3d31221",
   "metadata": {},
   "outputs": [
    {
     "name": "stdout",
     "output_type": "stream",
     "text": [
      "Probability Prediction on training set: [[0.68521578 0.31478422]\n",
      " [0.66679559 0.33320441]\n",
      " [0.64785146 0.35214854]\n",
      " [0.32157091 0.67842909]\n",
      " [0.27963728 0.72036272]\n",
      " [0.39889156 0.60110844]]\n"
     ]
    }
   ],
   "source": [
    "y_pred_probs = lr_model.predict_proba(X)\n",
    "\n",
    "print(\"Probability Prediction on training set:\", y_pred_probs)"
   ]
  },
  {
   "cell_type": "markdown",
   "id": "b457cd8a",
   "metadata": {},
   "source": [
    "## Calculate accuracy\n",
    "\n",
    "The **accuracy score** is a metric used to measure how well a classification model performs.\n",
    "\n",
    "It is calculated as:\n",
    "\n",
    "$$\n",
    "\\text{Accuracy} = \\frac{\\text{Number of correct predictions}}{\\text{Total number of predictions}}\n",
    "$$\n",
    "\n",
    "Or in simpler terms:\n",
    "\n",
    "$$\n",
    "\\text{Accuracy} = \\frac{\\text{True Positives + True Negatives}}{\\text{Total samples}}\n",
    "$$\n",
    "\n",
    "\n",
    "To find this, you call the `score` function"
   ]
  },
  {
   "cell_type": "code",
   "execution_count": 4,
   "id": "30c94d3c",
   "metadata": {},
   "outputs": [
    {
     "name": "stdout",
     "output_type": "stream",
     "text": [
      "Accuracy on training set: 1.0\n"
     ]
    }
   ],
   "source": [
    "print(\"Accuracy on training set:\", lr_model.score(X, y))"
   ]
  },
  {
   "cell_type": "markdown",
   "id": "027c73cc",
   "metadata": {},
   "source": [
    "**Note:**\n",
    "- For **large datasets**, `SGDClassifier(loss='log')` is usually **faster and more scalable** than `LogisticRegression()` with solvers `'lbfgs'` or `'liblinear'`.  \n",
    "\n",
    "- For **small to medium datasets**, standard `LogisticRegression()` is **fine and often more accurate** because it uses more stable solvers.\n"
   ]
  }
 ],
 "metadata": {
  "kernelspec": {
   "display_name": "Python 3 (ipykernel)",
   "language": "python",
   "name": "python3"
  },
  "language_info": {
   "codemirror_mode": {
    "name": "ipython",
    "version": 3
   },
   "file_extension": ".py",
   "mimetype": "text/x-python",
   "name": "python",
   "nbconvert_exporter": "python",
   "pygments_lexer": "ipython3",
   "version": "3.9.12"
  }
 },
 "nbformat": 4,
 "nbformat_minor": 5
}
