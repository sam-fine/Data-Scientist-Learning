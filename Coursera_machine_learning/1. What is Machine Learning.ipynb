{
 "cells": [
  {
   "cell_type": "markdown",
   "id": "08ed75c1",
   "metadata": {},
   "source": [
    "# Machine Learning Coursera"
   ]
  },
  {
   "cell_type": "markdown",
   "id": "6ee27df4",
   "metadata": {},
   "source": [
    "https://www.coursera.org/learn/machine-learning/lecture/PNeuX/what-is-machine-learning"
   ]
  },
  {
   "cell_type": "markdown",
   "id": "fa9a6c90",
   "metadata": {},
   "source": [
    "# What is Machine Learning?"
   ]
  },
  {
   "cell_type": "markdown",
   "id": "ca34f985",
   "metadata": {},
   "source": [
    "- It is a sub-field of AI\n",
    "\n",
    "- 'Field of study that gives computers the ability to learn without being explicitly programmed'\n",
    "- Generally, the larger sample/ test data you give the algorithm, the better the result.\n"
   ]
  },
  {
   "cell_type": "markdown",
   "id": "64ec3c7a",
   "metadata": {},
   "source": [
    "# ML Types:\n",
    "- **Supervised learning:** used most in real-world application and seen rapid advancements\n",
    "- **Unsupervised learning:** \n",
    "\n",
    "- **Recommender systems**\n",
    "- **Reinforcement learning:**"
   ]
  }
 ],
 "metadata": {
  "kernelspec": {
   "display_name": "Python 3 (ipykernel)",
   "language": "python",
   "name": "python3"
  },
  "language_info": {
   "codemirror_mode": {
    "name": "ipython",
    "version": 3
   },
   "file_extension": ".py",
   "mimetype": "text/x-python",
   "name": "python",
   "nbconvert_exporter": "python",
   "pygments_lexer": "ipython3",
   "version": "3.9.12"
  }
 },
 "nbformat": 4,
 "nbformat_minor": 5
}
