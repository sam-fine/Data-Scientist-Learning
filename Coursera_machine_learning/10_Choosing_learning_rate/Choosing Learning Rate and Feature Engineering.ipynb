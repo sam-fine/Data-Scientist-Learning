{
 "cells": [
  {
   "cell_type": "markdown",
   "id": "fb997ee2",
   "metadata": {},
   "source": [
    "# Choosing Learning Rate and Feature Engineering"
   ]
  },
  {
   "cell_type": "markdown",
   "id": "727af043",
   "metadata": {},
   "source": [
    "- Plot Learning Rate.\n",
    "\n",
    "- If learning rate is not decreasing over iterations, suggests learning rate too high or bug in code\n",
    "\n",
    "![identify](identify_problem.png)\n",
    "\n",
    "1. If cost over iterations is going up and down (top left)\n",
    "    - $\\alpha$ too large and suggests diversion (bottom left)\n",
    "2. Learning rate constantly increasing\n",
    "    - $\\alpha$  too large\n",
    "    - or bug in code (e.g. add derivative rather than substract (top right)\n",
    "\n",
    "### Debugging\n",
    "If we dont see convergence, one test is to set $\\alpha$ to be very small, and plot the learning curve to see if J is decreasing with every iteration.  \n",
    "If there is not convergence after this, this suggests a bug in the code."
   ]
  },
  {
   "cell_type": "markdown",
   "id": "74320749",
   "metadata": {},
   "source": [
    "## Choosing $\\alpha$\n",
    "\n",
    "- Try some values and plot the learning curve for a handful of iterations.  \n",
    "- Pick the value of $\\alpha$ that decreases the learning rate quickest, but also consistently.  \n",
    "- You could do the above, increasing the value of $\\alpha$ by approximetaly 3 times each time.\n",
    "![choose](choose_rate.png)"
   ]
  },
  {
   "cell_type": "markdown",
   "id": "a6631ac6",
   "metadata": {},
   "source": [
    "# Feature Engineering\n",
    "\n",
    "> **Feature engineering:** Using intuition to design **new features** by transforming or combining orginal features.\n",
    "\n",
    "**Example:**\n",
    "We want to find the cost of a house, with width x1 and depth x2. We can combine the features into:\n",
    "$$area = x_{3} = x_{1}\\cdot x_{2}$$\n",
    "We then may find out that x3 has the largest influence on the total cost for:\n",
    "\n",
    "$$f_{\\bar{w}{b}}(\\bar{x}) = w_{1}x_{1} + w_{2}x_{2} + w_{3}x_{3} + b $$"
   ]
  }
 ],
 "metadata": {
  "kernelspec": {
   "display_name": "Python 3 (ipykernel)",
   "language": "python",
   "name": "python3"
  },
  "language_info": {
   "codemirror_mode": {
    "name": "ipython",
    "version": 3
   },
   "file_extension": ".py",
   "mimetype": "text/x-python",
   "name": "python",
   "nbconvert_exporter": "python",
   "pygments_lexer": "ipython3",
   "version": "3.9.12"
  }
 },
 "nbformat": 4,
 "nbformat_minor": 5
}
