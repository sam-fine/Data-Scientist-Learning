{
 "cells": [
  {
   "cell_type": "markdown",
   "id": "0f580e72",
   "metadata": {},
   "source": [
    "# A/B testing and Hypothesis Testing\n",
    "\n",
    "https://www.youtube.com/watch?v=DUNk4GPZ9bw"
   ]
  },
  {
   "cell_type": "markdown",
   "id": "ffe23557",
   "metadata": {},
   "source": [
    "## Prerequisite: P-Values\n",
    "\n",
    "https://www.youtube.com/watch?v=vemZtEM63GY&list=PLblh5JKOoLUIcdlgu78MnlATeyx4cEVeR&index=25\n",
    "\n",
    "- Comparing two distributions (e.g. comparing two drugs, with differnt means for how many people it cured):\n",
    "    - H_0 = distributions are the same (drugs are the same)\n",
    "    - H_1 = distributions are different (drugs are different)\n",
    "    \n",
    "- p-values are between 0 and 1.\n",
    "- The closer the p-value is to 0, the more confidence we have in H_1.\n",
    "- Generally, a p-value of 0.05 is used.\n",
    "- This means: \n",
    "    - **if there is no difference between the two distributions (the two drugs), and if we did the experiment many times, then only 5% of those experiments would result in the wrong decision (saying they are different)**\n",
    "\n",
    "### Same Distribution - usually large p-values:\n",
    "    \n",
    "![p_val_same_dist](p_values_same_dist_high_value.png)\n",
    "    \n",
    "### Same distribution - 5% of the time small p-values\n",
    "\n",
    "![p_val_same_dist_low](p_values_same_dist_low_value.png)   \n",
    "\n",
    "So, if there is no difference between the two drugs (H_0 true), 5% of the time we do the experiment, we will get a p-value less than 0.05, and we would incorrectly reject H_0. (false positive).\n",
    "\n",
    "If we perform the experiment, and the p-value < 0.05, we decide the drugs are different.\n",
    "\n",
    "**Note: p-value variations:**\n",
    "- If extremely important to correctly conclude the drugs are different, we can use smaller thresholds for the p-value, e.g. 0.00001. (1 out of 100,000 experiments we get false positive)\n",
    "- The opposite is also true, if correct conclusions of rejecting H_0 and accepting H_1 are not important, we can have large p-values, e.g. 0.2.\n",
    "\n",
    "**Note: how different the distributions actually are to each other:**\n",
    "- A small p-value helps us decide if the drugs are different, but does not tell us **how different (effect size)** they are.\n",
    "- We can have small p-values but with tiny or huge distribution differences\n",
    "    - The size of the sample changes p-values, and how correlated p-value is to effect size.\n",
    "    \n",
    "### p-value calculation\n",
    "\n",
    "**1. A type of distribution is chosen for the hypothesis test (e.g. t-test/ normal)**\n",
    "\n",
    "####  Choosing the Right Test and Distribution\n",
    "\n",
    "| What You’re Testing            | Distribution              | Common Test                        | Notes                                  |\n",
    "|-------------------------------|---------------------------|------------------------------------|----------------------------------------|\n",
    "| Mean (σ unknown, small n)     | **t-distribution**        | One-sample or two-sample **t-test**| Small sample or population σ unknown   |\n",
    "| Mean (σ known or large n)     | **Normal (Z) distribution** | **Z-test**                        | Use when population σ is known or n is large |\n",
    "| Proportions                   | **Normal (Z) distribution** | **Proportion Z-test**             | Use when sample size is large (normal approximation) |          |\n",
    "| Categorical data              | **Chi-squared distribution** | **Chi-square test**             | Test of independence                   |\n",
    "| Variances (between groups)    | **F-distribution**         | **ANOVA**, variance comparison     | Comparing multiple group variances     |\n",
    "\n",
    "**2. A distribution score (test statistic) is calculated (e.g. t-score/z-score), telling you:**\n",
    "- How many standard deviations your sample result is away from the mean that is expected under the null hypothesis (negative or positive) .\n",
    "e.g.\n",
    "\n",
    "**t-score:**\n",
    "\n",
    "- Use when you have small sample or s.d is unknown. \n",
    "\n",
    "$$\n",
    "t = \\frac{\\bar{x} - \\mu_0}{s / \\sqrt{n}}\n",
    "$$\n",
    "\n",
    "Where:\n",
    "\n",
    "- $\\bar{x}$ = sample mean  \n",
    "- $\\mu_0$ = population mean under the null hypothesis  \n",
    "- $s$ = sample standard deviation (use population s.d for normal distribution)\n",
    "- $n$ = sample size\n",
    "\n",
    "\n",
    "**Note:** a t-distribution is similar to a z/normal - distribution but it has fatter tails because samples are smaller so rare cases are more likely. The larger the sample size in t-test, the thinner the tails. \n",
    "\n",
    "### Degrees of Freedom\n",
    "\n",
    "When calculating the p-value for a t-test, you need to know the degrees of freedom, as this is an input into the python formula.\n",
    "\n",
    "> **Degrees of freedom** = number of independent values that can vary without breaking a constraint.\n",
    "\n",
    "---\n",
    "\n",
    "#### 🔧 Everyday Analogy\n",
    "\n",
    "- Packing 5 items with total weight = 100 kg\n",
    "- You choose weights for 4 items freely\n",
    "- The 5th item’s weight is fixed to make total 100\n",
    "\n",
    "**Degrees of freedom** = 5 (items) − 1 (constraint) = 4\n",
    "\n",
    "---\n",
    "\n",
    "#### 📊 In Statistics\n",
    "\n",
    "Sample variance formula:\n",
    "\n",
    "\n",
    "$$s^2 = \\frac{1}{n-1} \\sum (x_i - \\bar{x})^2$$\n",
    "\n",
    "\n",
    "Why divide by \\(n-1\\) instead of \\(n\\)?\n",
    "\n",
    "- After calculating the sample mean, one value is fixed.\n",
    "- Only \\(n-1\\) values can vary freely.\n",
    "\n",
    "**Degrees of freedom** = \\(n - 1\\)\n",
    "\n",
    "- This gives an unbiased estimate of the population variance.\n",
    "- Mostly relevant when n is small, like in t-tests.\n",
    "\n",
    "\n",
    "**Note:** The z-score is the same as above but we use the population standard deviation rather than the sample, as we have a large sample size. \n",
    "\n",
    "$$\n",
    "z = \\frac{\\bar{x} - \\mu_0}{\\sigma / \\sqrt{n}}\n",
    "$$\n",
    "\n",
    "### Division by $\\sqrt{n}$:\n",
    "\n",
    "Because of the square root in the denominator:\n",
    "\n",
    "$\\sqrt{n}$ grows **slower** than  $n$ — this is **non-linear growth**.\n",
    "\n",
    "This means that:\n",
    "- Gains in precision (i.e., smaller standard error) **get smaller and smaller** as your sample size increases\n",
    "- This phenomenon is called **diminishing returns** in sampling\n",
    "\n",
    "![root_n](root_n.png)\n",
    "\n",
    "#### 📉 Intuition:\n",
    "- Small \\( n \\) → each new data point **greatly reduces error**\n",
    "- Large \\( n \\) → each new data point **only slightly improves precision**\n",
    "\n",
    "**3. The score is translated to a percentage (the p-value), representing what percentage of the distribution is outside the stated number of standard deviations.**\n",
    "\n",
    "- Use normal distribution/ z-score when sample is large and s.d is known\n",
    "\n",
    "![p_value_on_graph](p_value_on_graph.png)\n",
    "\n"
   ]
  },
  {
   "cell_type": "code",
   "execution_count": 4,
   "id": "e963d156",
   "metadata": {},
   "outputs": [
    {
     "name": "stdout",
     "output_type": "stream",
     "text": [
      "z-score = -2.5\n",
      "p_value for 1 tailed test with normal distribution: 0.006209665325776159\n",
      "p_value for 2 tailed test with normal distribution:+ 0.012419330651552318\n"
     ]
    }
   ],
   "source": [
    "# Use scipy to get p-value (normal distribution):\n",
    "from scipy.stats import norm\n",
    "z_score = -2.5\n",
    "print(f'z-score = {z_score}')\n",
    "# 1-tailed dist (like above)\n",
    "p_value = (1 - norm.cdf(abs(z_score)))\n",
    "print(f'p_value for 1 tailed test with normal distribution: {p_value}')\n",
    "# 2-tailed dist (H_1: distributions are different and the mean(or statistic) is either larger or smaller than the original)\n",
    "p_value = 2 * (1 - norm.cdf(abs(z_score)))\n",
    "print(f'p_value for 2 tailed test with normal distribution:+ {p_value}')\n",
    "\n",
    "## norm.cdf uses the cumulative distribution function F(x)=P(X≤x) (based on the Gaussian equation)\n",
    "## The probability that the variable X (random variable) takes on a value less than or equal to a value x\n"
   ]
  },
  {
   "cell_type": "markdown",
   "id": "470959a2",
   "metadata": {},
   "source": [
    "## A/B Test Purpose\n",
    "\n",
    "To determine whether a change in a metric is because of random chance or because of the change you have implemented. \n"
   ]
  },
  {
   "cell_type": "markdown",
   "id": "c6c13603",
   "metadata": {},
   "source": [
    "## 1. Problem Statement\n",
    "\n",
    "What is the business goal of the experiment. What is the success metric?"
   ]
  },
  {
   "cell_type": "markdown",
   "id": "2d2abe54",
   "metadata": {},
   "source": [
    "## 🧪 Problem for Our A/B Test\n",
    "**Product:** An e-commerce website  \n",
    "**Test Feature:** A new \"Buy Now\" button design  \n",
    "**Goal Metric:** Conversion rate (i.e., % of visitors who make a purchase)  \n",
    "\n",
    "We want to determine whether a redesigned 'Buy Now' button (Version B) increases the conversion rate on our e-commerce site compared to the old design (Version A).\n",
    "\n",
    "Success Metric:\n",
    "$$Conversion\\_rate =  \\frac{number\\_of\\_purchases}{number\\_of\\_visitors}.$$"
   ]
  },
  {
   "cell_type": "markdown",
   "id": "464958b2",
   "metadata": {},
   "source": [
    "## User Funnel Example: (funnels down)\n",
    "\n",
    "\n",
    "![User Funnel](user_funnel.png)\n"
   ]
  },
  {
   "cell_type": "markdown",
   "id": "33510091",
   "metadata": {},
   "source": [
    "## 2. Hypothesis Testing\n",
    "\n",
    "What result do you hypothesise from the experiment?\n",
    "What is the Null and Alternate Hypotheses.\n",
    "Set up some parameter values such as the significance level and statistical power "
   ]
  },
  {
   "cell_type": "markdown",
   "id": "a6328ccc",
   "metadata": {},
   "source": [
    "**Null Hypothesis:**  \n",
    "There is no difference between the new button and the original:  \n",
    "$$H\\_0: p_{A} = p_{B}$$  \n",
    "**Alternate Hypothesis:**  \n",
    "The new button has a larger conversion rate compared to the original:  \n",
    "$$H\\_0: p_{B} > p_{A}$$\n",
    "\n",
    "As the alternate hypothesis is only greater than rather than $\\ne$, this is a one-tailed test."
   ]
  },
  {
   "cell_type": "markdown",
   "id": "6bee9a70",
   "metadata": {},
   "source": [
    "\n",
    "**Significance Level (α):** 0.05  \n",
    "- The threshold you set for rejecting the null hypothesis.\n",
    "- It represents the **Probability of making a Type I Error - rejecting the null hypothesis when it is actually true** (a false positive)\n",
    "- 0.05 means there is a 5% chance of the above\n",
    "- If the p-value is less than 0.05, the chance of the error is less than 5% and we accept the null\n",
    "\n",
    "![significance_level](significance_level_graph.png)\n",
    "\n",
    "**Statistical Power:** 0.8\n",
    "- Power is the probability we will correctly reject the Null hypothesis\n",
    "- When we are comparing two distributions that have little overlap, the power is highest, as the average of samples taken from each distribution will result in high p-values when comparing the averages. This leeds to high probability of rejecting H0.\n",
    "- If distributions overlap a lot and we have a small sample size, the power will be low\n",
    "- Power can be increased by increasing the sample size\n",
    "**Minimum Detectable Effect (MDE):** Let’s say a 10% relative lift is meaningful."
   ]
  },
  {
   "cell_type": "markdown",
   "id": "b56e4c4b",
   "metadata": {},
   "source": [
    "## Statistical Power (β)\n",
    "\n",
    "- Power is the probability we will correctly reject the Null hypothesis and avoid a **Type II Error - accepting the Null hypothesis when it is actually false** (a false negative) \n",
    "- The probability of committing a type II error is equal to one minus the power of the test, also known as beta.\n",
    "- When we are comparing two distributions that have little overlap, the power is highest, as the average of samples taken from each distribution will result in low p-values when comparing the means. This leeds to high probability of rejecting H0.  \n",
    "- Below, H0 is the distributions are the same and H1 is they are different"
   ]
  },
  {
   "cell_type": "markdown",
   "id": "67bed5ba",
   "metadata": {},
   "source": [
    "## High Statistical Power\n",
    "![High Statistical Power](statistical_power_little_overlap.png)"
   ]
  },
  {
   "cell_type": "markdown",
   "id": "d3078500",
   "metadata": {},
   "source": [
    "- If distributions overlap a lot and we have a small sample size, the power will be low\n",
    "- This can happen when the chosen 'Test Feature' makes a small change to the success metric.\n",
    "- In this case, the p-value is likely to be high, and thus more likely to accept H0"
   ]
  },
  {
   "cell_type": "markdown",
   "id": "52342c85",
   "metadata": {},
   "source": [
    "## Low Statistical Power\n",
    "![High Statistical Power](statistical_power_large_overlap.png)"
   ]
  },
  {
   "cell_type": "markdown",
   "id": "dfd91e2e",
   "metadata": {},
   "source": [
    "## 3. Design the Experiment\n",
    "\n",
    "What are your experiment paramaters?\n",
    "What is the randomisation unit?\n",
    "Which user type will we target for the experiment"
   ]
  },
  {
   "cell_type": "markdown",
   "id": "de76326f",
   "metadata": {},
   "source": [
    "## 4. Run the Experiment\n",
    "\n",
    "Reuirements for running the experiment?\n",
    "Implementation to collect data and analyse the result "
   ]
  },
  {
   "cell_type": "markdown",
   "id": "4b3eef05",
   "metadata": {},
   "source": [
    "## 5. Validity Checks\n",
    "\n",
    "Did the experiment run soundly without errors or bias?\n",
    "Sanity check before launching decision"
   ]
  },
  {
   "cell_type": "markdown",
   "id": "3f807c0e",
   "metadata": {},
   "source": [
    "## 6. Interpret the result\n",
    "\n",
    "In which direction is the metric significant statistically and practically?\n",
    "What is the lift that is saw?\n",
    "What is the p-value confidence interval "
   ]
  },
  {
   "cell_type": "markdown",
   "id": "0f2314c1",
   "metadata": {},
   "source": [
    "## Launch Decision\n",
    "\n",
    "Based off the results, should the change be launched?"
   ]
  },
  {
   "cell_type": "code",
   "execution_count": 1,
   "id": "d1437ec6",
   "metadata": {},
   "outputs": [
    {
     "data": {
      "text/html": [
       "<div>\n",
       "<style scoped>\n",
       "    .dataframe tbody tr th:only-of-type {\n",
       "        vertical-align: middle;\n",
       "    }\n",
       "\n",
       "    .dataframe tbody tr th {\n",
       "        vertical-align: top;\n",
       "    }\n",
       "\n",
       "    .dataframe thead th {\n",
       "        text-align: right;\n",
       "    }\n",
       "</style>\n",
       "<table border=\"1\" class=\"dataframe\">\n",
       "  <thead>\n",
       "    <tr style=\"text-align: right;\">\n",
       "      <th></th>\n",
       "      <th>a</th>\n",
       "      <th>b</th>\n",
       "      <th>c</th>\n",
       "    </tr>\n",
       "  </thead>\n",
       "  <tbody>\n",
       "    <tr>\n",
       "      <th>0</th>\n",
       "      <td>1</td>\n",
       "      <td>hello</td>\n",
       "      <td>True</td>\n",
       "    </tr>\n",
       "    <tr>\n",
       "      <th>1</th>\n",
       "      <td>2</td>\n",
       "      <td>bye</td>\n",
       "      <td>True</td>\n",
       "    </tr>\n",
       "    <tr>\n",
       "      <th>2</th>\n",
       "      <td>3</td>\n",
       "      <td>morning</td>\n",
       "      <td>False</td>\n",
       "    </tr>\n",
       "    <tr>\n",
       "      <th>3</th>\n",
       "      <td>4</td>\n",
       "      <td>evening</td>\n",
       "      <td>False</td>\n",
       "    </tr>\n",
       "  </tbody>\n",
       "</table>\n",
       "</div>"
      ],
      "text/plain": [
       "   a        b      c\n",
       "0  1    hello   True\n",
       "1  2      bye   True\n",
       "2  3  morning  False\n",
       "3  4  evening  False"
      ]
     },
     "execution_count": 1,
     "metadata": {},
     "output_type": "execute_result"
    }
   ],
   "source": []
  },
  {
   "cell_type": "code",
   "execution_count": null,
   "id": "cfb13792",
   "metadata": {},
   "outputs": [],
   "source": []
  }
 ],
 "metadata": {
  "kernelspec": {
   "display_name": "Python 3 (ipykernel)",
   "language": "python",
   "name": "python3"
  },
  "language_info": {
   "codemirror_mode": {
    "name": "ipython",
    "version": 3
   },
   "file_extension": ".py",
   "mimetype": "text/x-python",
   "name": "python",
   "nbconvert_exporter": "python",
   "pygments_lexer": "ipython3",
   "version": "3.9.12"
  }
 },
 "nbformat": 4,
 "nbformat_minor": 5
}
