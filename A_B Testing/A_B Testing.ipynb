{
 "cells": [
  {
   "cell_type": "markdown",
   "id": "0f580e72",
   "metadata": {},
   "source": [
    "# A/B testing\n",
    "\n",
    "https://www.youtube.com/watch?v=DUNk4GPZ9bw"
   ]
  },
  {
   "cell_type": "markdown",
   "id": "470959a2",
   "metadata": {},
   "source": [
    "## Purpose\n",
    "\n",
    "To determine whether a change in a metric is because of random chance or because of the change you have implemented. \n"
   ]
  },
  {
   "cell_type": "markdown",
   "id": "c6c13603",
   "metadata": {},
   "source": [
    "## 1. Problem Statement\n",
    "\n",
    "What is the business goal of the experiment. What is the success metric?"
   ]
  },
  {
   "cell_type": "markdown",
   "id": "2d2abe54",
   "metadata": {},
   "source": [
    "## 🧪 Problem for Our A/B Test\n",
    "**Product:** An e-commerce website  \n",
    "**Test Feature:** A new \"Buy Now\" button design  \n",
    "**Goal Metric:** Conversion rate (i.e., % of visitors who make a purchase)  \n",
    "\n",
    "We want to determine whether a redesigned 'Buy Now' button (Version B) increases the conversion rate on our e-commerce site compared to the old design (Version A).\n",
    "\n",
    "Success Metric:\n",
    "$$Conversion\\_rate =  \\frac{number\\_of\\_purchases}{number\\_of\\_visitors}.$$"
   ]
  },
  {
   "cell_type": "markdown",
   "id": "464958b2",
   "metadata": {},
   "source": [
    "## User Funnel Example: (funnels down)\n",
    "\n",
    "\n",
    "![User Funnel](user_funnel.png)\n"
   ]
  },
  {
   "cell_type": "markdown",
   "id": "33510091",
   "metadata": {},
   "source": [
    "## 2. Hypothesis Testing\n",
    "\n",
    "What result do you hypothesise from the experiment?\n",
    "What is the Null and Alternate Hypotheses.\n",
    "Set up some parameter values such as the significance level and statistical power "
   ]
  },
  {
   "cell_type": "markdown",
   "id": "a6328ccc",
   "metadata": {},
   "source": [
    "**Null Hypothesis:**  \n",
    "There is no difference between the new button and the original:  \n",
    "$$H\\_0: p_{A} = p_{B}$$  \n",
    "**Alternate Hypothesis:**  \n",
    "The new button has a larger conversion rate compared to the original:  \n",
    "$$H\\_0: p_{B} > p_{A}$$\n",
    "\n",
    "As the alternate hypothesis is only greater than rather than $\\ne$, this is a one-tailed test."
   ]
  },
  {
   "cell_type": "markdown",
   "id": "6bee9a70",
   "metadata": {},
   "source": [
    "\n",
    "**Significance Level (α):** 0.05  \n",
    "- The threshold you set for rejecting the null hypothesis.\n",
    "- It represents the **Probability of making a Type I Error - rejecting the null hypothesis when it is actually true** (a false positive)\n",
    "- 0.05 means there is a 5% chance of the above\n",
    "- If the p-value is less than 0.05, the chance of the error is less than 5% and we accept the null\n",
    "\n",
    "**Statistical Power:** 0.8\n",
    "- Power is the probability we will correctly reject the Null hypothesis\n",
    "- When we are comparing two distributions that have little overlap, the power is highest, as the average of samples taken from each distribution will result in high p-values when comparing the averages. This leeds to high probability of rejecting H0.\n",
    "- If distributions overlap a lot and we have a small sample size, the power will be low\n",
    "- Power can be increased by increasing the sample size\n",
    "**Minimum Detectable Effect (MDE):** Let’s say a 10% relative lift is meaningful."
   ]
  },
  {
   "cell_type": "markdown",
   "id": "b56e4c4b",
   "metadata": {},
   "source": [
    "## Statistical Power (β)\n",
    "\n",
    "- Power is the probability we will correctly reject the Null hypothesis and avoid a **Type II Error - accepting the Null hypothesis when it is actually false** (a false negative) \n",
    "- The probability of committing a type II error is equal to one minus the power of the test, also known as beta.\n",
    "- When we are comparing two distributions that have little overlap, the power is highest, as the average of samples taken from each distribution will result in high p-values when comparing the averages. This leeds to high probability of rejecting H0.  \n",
    "- Below, H0 is the distributions are the same and H1 is they are different"
   ]
  },
  {
   "cell_type": "markdown",
   "id": "67bed5ba",
   "metadata": {},
   "source": [
    "## High Statistical Power\n",
    "![High Statistical Power](statistical_power_little_overlap.png)"
   ]
  },
  {
   "cell_type": "markdown",
   "id": "d3078500",
   "metadata": {},
   "source": [
    "- If distributions overlap a lot and we have a small sample size, the power will be low\n",
    "- This can happen when the chosen 'Test Feature' makes a small change to the success metric.\n",
    "- In this case, the p-value is likely to be high, and thus more likely to accept H0"
   ]
  },
  {
   "cell_type": "markdown",
   "id": "52342c85",
   "metadata": {},
   "source": [
    "## Low Statistical Power\n",
    "![High Statistical Power](statistical_power_large_overlap.png)"
   ]
  },
  {
   "cell_type": "markdown",
   "id": "dfd91e2e",
   "metadata": {},
   "source": [
    "## 3. Design the Experiment\n",
    "\n",
    "What are your experiment paramaters?\n",
    "What is the randomisation unit?\n",
    "Which user type will we target for the experiment"
   ]
  },
  {
   "cell_type": "markdown",
   "id": "de76326f",
   "metadata": {},
   "source": [
    "## 4. Run the Experiment\n",
    "\n",
    "Reuirements for running the experiment?\n",
    "Implementation to collect data and analyse the result "
   ]
  },
  {
   "cell_type": "markdown",
   "id": "4b3eef05",
   "metadata": {},
   "source": [
    "## 5. Validity Checks\n",
    "\n",
    "Did the experiment run soundly without errors or bias?\n",
    "Sanity check before launching decision"
   ]
  },
  {
   "cell_type": "markdown",
   "id": "3f807c0e",
   "metadata": {},
   "source": [
    "## 6. Interpret the result\n",
    "\n",
    "In which direction is the metric significant statistically and practically?\n",
    "What is the lift that is saw?\n",
    "What is the p-value confidence interval "
   ]
  },
  {
   "cell_type": "markdown",
   "id": "0f2314c1",
   "metadata": {},
   "source": [
    "## Launch Decision\n",
    "\n",
    "Based off the results, should the change be launched?"
   ]
  },
  {
   "cell_type": "code",
   "execution_count": null,
   "id": "d1437ec6",
   "metadata": {},
   "outputs": [],
   "source": []
  }
 ],
 "metadata": {
  "kernelspec": {
   "display_name": "Python 3 (ipykernel)",
   "language": "python",
   "name": "python3"
  },
  "language_info": {
   "codemirror_mode": {
    "name": "ipython",
    "version": 3
   },
   "file_extension": ".py",
   "mimetype": "text/x-python",
   "name": "python",
   "nbconvert_exporter": "python",
   "pygments_lexer": "ipython3",
   "version": "3.9.12"
  }
 },
 "nbformat": 4,
 "nbformat_minor": 5
}
