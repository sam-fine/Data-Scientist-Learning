{
 "cells": [
  {
   "cell_type": "markdown",
   "id": "834c0053-9225-433b-bf75-4ce60a36cab6",
   "metadata": {},
   "source": [
    "# REST API Using Django"
   ]
  },
  {
   "cell_type": "markdown",
   "id": "9e7e6fa7-0e63-41f3-a447-eefc0e0460b2",
   "metadata": {},
   "source": [
    "https://medium.com/@mathur.danduprolu/a-beginners-guide-to-building-rest-apis-with-python-and-django-rest-framework-ac9153d9ab7a"
   ]
  },
  {
   "cell_type": "markdown",
   "id": "52cd664f-8c36-45d5-b944-a85326d004df",
   "metadata": {},
   "source": [
    "# What is an API?\n",
    "> **API:** Application Programming Interfaces allow different softwares to communicate with each other.\n",
    "\n",
    "One of the most common types of APIs is the REST API \n",
    "## What is a REST API?\n",
    "> **REST API:** Representational State Transfer API; an architectural style for creating networked applications that rely on stateless, client-server communication\n",
    "\n",
    "- **Client-server:** there are two sides:\n",
    "    - Client (your app, browser, etc.) asks for information.\n",
    "    - Server gives back the information.\n",
    "\n",
    "- **Stateless:** each request is independent. The server doesn’t “remember” what you asked before. Every time the client talks to the server, it must include all the info the server needs to answer.\n",
    "\n",
    "It allows clients to interact with servers by making requests over the HTTP protocol.  \n",
    "Requests include (CRUD):\n",
    "- **GET (READ):** Retrieve data from the server\n",
    "- **POST (CREATE):** Send data to the server to create a new resource\n",
    "- **PUT (UPDATE):** Update an existing resource on the server\n",
    "- **DELETE:** Remove a resource from the server\n",
    "\n",
    "\n",
    "REST APIs are widely used because they are simple, scalable, and use the same basic HTTP operations that web browsers use to fetch and send data."
   ]
  },
  {
   "cell_type": "markdown",
   "id": "09ec16a0-84f6-4892-b2b7-a5a63ce9395b",
   "metadata": {},
   "source": [
    "## Django REST Framework (DRF)\n",
    "> **Django:** Django provides a structured and efficient framework for building robust and scalable web applications using Python.\n",
    "\n",
    "> **DRF:** A powerful toolkit to build Web APIs in Django\n",
    "\n",
    "It offers an easy-to-use interface to build REST APIs and comes with many features such as authentication, serialization, and viewsets that make developing APIs easier."
   ]
  },
  {
   "cell_type": "markdown",
   "id": "c26df08e-ae3c-4dae-a11b-a606cc95b6f6",
   "metadata": {},
   "source": [
    "# Create REST API Using Django:\n",
    "\n",
    "## Step 1: Install Django and Django REST Framework:"
   ]
  },
  {
   "cell_type": "code",
   "execution_count": 4,
   "id": "4b7a47ed-8e05-4f5d-89bc-73e5f1e2c065",
   "metadata": {},
   "outputs": [
    {
     "ename": "SyntaxError",
     "evalue": "invalid syntax (2880399114.py, line 3)",
     "output_type": "error",
     "traceback": [
      "\u001b[1;36m  Cell \u001b[1;32mIn[4], line 3\u001b[1;36m\u001b[0m\n\u001b[1;33m    pip install virtualenv\u001b[0m\n\u001b[1;37m        ^\u001b[0m\n\u001b[1;31mSyntaxError\u001b[0m\u001b[1;31m:\u001b[0m invalid syntax\n"
     ]
    }
   ],
   "source": [
    "# In cmd\n",
    "# Install virtualenv if not already installed\n",
    "pip install virtualenv\n",
    "\n",
    "# Create a virtual environment\n",
    "virtualenv venv\n",
    "\n",
    "# Activate the virtual environment\n",
    "venv\\Scripts\\activate  # For Windows\n",
    "\n",
    "#Now install django and DFR\n",
    "pip install django djangorestframework\n",
    "\n",
    "# Create requirements file optional:\n",
    "pip freeze > requirements.txt"
   ]
  },
  {
   "cell_type": "markdown",
   "id": "cc8c5051-34a8-47f2-8966-0620306ae283",
   "metadata": {},
   "source": [
    "## Step 2: Create a New Django Project:\n",
    "\n",
    "A project is the overall container (the whole website or service) and inside it, you create smaller apps, each focused on one area of functionality.  \n",
    "There are a few base modules created when running the following."
   ]
  },
  {
   "cell_type": "code",
   "execution_count": null,
   "id": "1149a2cc-4184-43c7-a98a-bf0f09713943",
   "metadata": {},
   "outputs": [],
   "source": [
    "django-admin startproject restapi_project\n",
    "cd restapi_project"
   ]
  },
  {
   "cell_type": "markdown",
   "id": "3a277af9-7a71-4f96-9d36-006dc2b0fa8c",
   "metadata": {},
   "source": [
    "## Step 3: Create a New Django App:\n",
    "To keep things moduler (clean and organised) create a new app within my project that will handle the REST API."
   ]
  },
  {
   "cell_type": "code",
   "execution_count": null,
   "id": "bea0e995-c900-491c-ad74-581bc3c7f187",
   "metadata": {},
   "outputs": [],
   "source": [
    "python manage.py startapp api"
   ]
  },
  {
   "cell_type": "markdown",
   "id": "1065ac43-e81d-463f-ba9c-36cbce9be5b6",
   "metadata": {},
   "source": [
    "## Step 4: Set up Django REST Framework:\n",
    "In the restapi_project/settings.py module, add 'rest_framework' to the INSTALLED_APPS section to tell Django to enable the DRF so I can start building APIs with it."
   ]
  },
  {
   "cell_type": "code",
   "execution_count": null,
   "id": "6dd5a78d-413f-4f5b-8eb1-1769f6761f83",
   "metadata": {},
   "outputs": [],
   "source": [
    "INSTALLED_APPS = [\n",
    "    # other installed apps,\n",
    "    'rest_framework',\n",
    "    'api',  # newly created app\n",
    "]"
   ]
  },
  {
   "cell_type": "markdown",
   "id": "5cf4c2cb-b512-4aff-bb11-76660291f73f",
   "metadata": {},
   "source": [
    "# Step 5: Define your Model\n",
    "For demonstration, we will create a simple model for managing a list of tasks."
   ]
  },
  {
   "cell_type": "code",
   "execution_count": 5,
   "id": "cb2cc45b-1e24-4425-8999-7006bbfcd677",
   "metadata": {},
   "outputs": [
    {
     "ename": "ModuleNotFoundError",
     "evalue": "No module named 'django'",
     "output_type": "error",
     "traceback": [
      "\u001b[1;31m---------------------------------------------------------------------------\u001b[0m",
      "\u001b[1;31mModuleNotFoundError\u001b[0m                       Traceback (most recent call last)",
      "Cell \u001b[1;32mIn[5], line 3\u001b[0m\n\u001b[0;32m      1\u001b[0m \u001b[38;5;66;03m# in the api/models.py, define the 'Task' model:\u001b[39;00m\n\u001b[1;32m----> 3\u001b[0m \u001b[38;5;28;01mfrom\u001b[39;00m\u001b[38;5;250m \u001b[39m\u001b[38;5;21;01mdjango\u001b[39;00m\u001b[38;5;21;01m.\u001b[39;00m\u001b[38;5;21;01mdb\u001b[39;00m\u001b[38;5;250m \u001b[39m\u001b[38;5;28;01mimport\u001b[39;00m models\n\u001b[0;32m      5\u001b[0m \u001b[38;5;28;01mclass\u001b[39;00m\u001b[38;5;250m \u001b[39m\u001b[38;5;21;01mTask\u001b[39;00m(models\u001b[38;5;241m.\u001b[39mModel):\n\u001b[0;32m      6\u001b[0m \u001b[38;5;250m    \u001b[39m\u001b[38;5;124;03m\"\"\"\u001b[39;00m\n\u001b[0;32m      7\u001b[0m \u001b[38;5;124;03m    Task model for managing to-do style tasks.\u001b[39;00m\n\u001b[0;32m      8\u001b[0m \n\u001b[1;32m   (...)\u001b[0m\n\u001b[0;32m     15\u001b[0m \u001b[38;5;124;03m        __str__: Returns the task's title when the object is printed or displayed.\u001b[39;00m\n\u001b[0;32m     16\u001b[0m \u001b[38;5;124;03m    \"\"\"\u001b[39;00m\n",
      "\u001b[1;31mModuleNotFoundError\u001b[0m: No module named 'django'"
     ]
    }
   ],
   "source": [
    "# in the api/models.py, define the 'Task' model:\n",
    "\n",
    "from django.db import models\n",
    "\n",
    "class Task(models.Model):\n",
    "    \"\"\"\n",
    "    Task model for managing to-do style tasks.\n",
    "\n",
    "    Fields:\n",
    "        title (CharField): A short name or title of the task.\n",
    "        description (TextField): A longer text giving details about the task.\n",
    "        completed (BooleanField): Marks whether the task is done (True) or not (False).\n",
    "\n",
    "    Methods:\n",
    "        __str__: Returns the task's title when the object is printed or displayed.\n",
    "    \"\"\"\n",
    "    # Short text field for the task's title (e.g., \"Buy groceries\")\n",
    "    title = models.CharField(max_length=255)\n",
    "\n",
    "    # Larger text field for details about the task (e.g., \"Buy milk, bread, and eggs\")\n",
    "    description = models.TextField()\n",
    "\n",
    "    # Boolean value that indicates if the task is completed or not\n",
    "    completed = models.BooleanField(default=False)\n",
    "\n",
    "    def __str__(self):\n",
    "        \"\"\"\n",
    "        Returns the title of the task as its string representation.\n",
    "        Helpful when viewing objects in the Django admin or shell.\n",
    "        \"\"\"\n",
    "        return self.title\n"
   ]
  },
  {
   "cell_type": "markdown",
   "id": "34d8f527-5741-438e-b123-08768f6bbec8",
   "metadata": {},
   "source": [
    "### Create necessery databases.  \n",
    "- We need a database to store, organise and retrieve data in a structured manner.\n",
    "- For example, we may want to store all the tasks, completed or not.\n",
    "- Django uses SQLite by default.\n",
    "\n",
    "**makemigrations**\n",
    "- Looks at each model (eg Task) and decides what changes need to be made in the database\n",
    "- It creates a migration file describing those changes\n",
    "- eg you see below the migration is creating a new table for the Task model with necessery fields. "
   ]
  },
  {
   "cell_type": "code",
   "execution_count": 7,
   "id": "0b052983-eee5-4f99-8669-ef6309f7ddf0",
   "metadata": {},
   "outputs": [
    {
     "ename": "SyntaxError",
     "evalue": "invalid syntax (405299674.py, line 1)",
     "output_type": "error",
     "traceback": [
      "\u001b[1;36m  Cell \u001b[1;32mIn[7], line 1\u001b[1;36m\u001b[0m\n\u001b[1;33m    python manage.py makemigrations\u001b[0m\n\u001b[1;37m           ^\u001b[0m\n\u001b[1;31mSyntaxError\u001b[0m\u001b[1;31m:\u001b[0m invalid syntax\n"
     ]
    }
   ],
   "source": [
    "python manage.py makemigrations \n",
    "## migration file produced:\n",
    "class Migration(migrations.Migration):\n",
    "\n",
    "    initial = True\n",
    "\n",
    "    dependencies = [\n",
    "    ]\n",
    "\n",
    "    operations = [\n",
    "        migrations.CreateModel(\n",
    "            name='Task',\n",
    "            fields=[\n",
    "                ('id', models.BigAutoField(auto_created=True, primary_key=True, serialize=False, verbose_name='ID')),\n",
    "                ('title', models.CharField(max_length=255)),\n",
    "                ('description', models.TextField()),\n",
    "                ('completed', models.BooleanField(default=False)),\n",
    "            ],\n",
    "        ),\n",
    "    ]\n"
   ]
  },
  {
   "cell_type": "markdown",
   "id": "324e13d5-8e4a-475c-b238-199d080e8f46",
   "metadata": {},
   "source": [
    "**migrate:**\n",
    "- Apply the migration files to the database\n",
    "- This creates or updates tables in the database to match the models. (Task table will be created)"
   ]
  },
  {
   "cell_type": "code",
   "execution_count": null,
   "id": "1110c70b-f66a-4ce8-af9c-0f3ad9031004",
   "metadata": {},
   "outputs": [],
   "source": [
    "python manage.py migrate\n",
    "# db.sqlite3 is created"
   ]
  },
  {
   "cell_type": "markdown",
   "id": "ce3afc31-c1a1-4528-97db-74aab370a89c",
   "metadata": {},
   "source": [
    "## Step 6: Create a Serializer:\n",
    "Serializers in DRF are responsible for converting complex data types like Django models (e.g. my Task) into JSON (format used to send data over APIs), XML  or other content types and vice versa. \n",
    "\n",
    "\n",
    "In api/serializers.py, create a serializer for the Task model:"
   ]
  },
  {
   "cell_type": "code",
   "execution_count": null,
   "id": "4205c629-bd26-441d-9557-7ce7cb9187f6",
   "metadata": {},
   "outputs": [],
   "source": [
    "from rest_framework import serializers\n",
    "from .models import Task\n",
    "\n",
    "class TaskSerializer(serializers.ModelSerializer):\n",
    "    \"\"\"\n",
    "    Serializer for the Task model.\n",
    "\n",
    "    Purpose:\n",
    "        - Converts Task model instances into JSON (for API responses).\n",
    "        - Converts JSON input into Task model instances (for saving to the database).\n",
    "\n",
    "    Meta:\n",
    "        model (Task): The model this serializer is based on.\n",
    "        fields ('__all__'): Includes all fields of the Task model \n",
    "                            (title, description, completed).\n",
    "    \"\"\"\n",
    "\n",
    "    class Meta:\n",
    "        # Connect this serializer to the Task model\n",
    "        model = Task\n",
    "\n",
    "        # Include all fields from the Task model in the serializer\n",
    "        # (title, description, completed will be automatically included)\n",
    "        fields = '__all__'\n"
   ]
  },
  {
   "cell_type": "markdown",
   "id": "01ab62f1-7554-41ba-896d-f55f5381f6de",
   "metadata": {},
   "source": [
    "### Nested Meta class:\n",
    "Above, the nested Meta class is a **static configuration** for the class itself, so it doesnt change per object/instance (why we dont use __init__).  \n",
    "We could in theory implement this using a class decorator, but we dont:\n",
    "- **Python Convention:** Django uses nested Meta classes for configuration\n",
    "- **Inheritance Friendly:** DRF inspects the serializer class, looks for Meta and automatically generates fields and validation before an instance has been created. The nested class makes this easier.\n",
    "\n",
    "\n",
    "The actual serialization logic lives in ModelSerializer and BaseSerializer.  \n",
    "When you use a `ModelSerializer`, here's what happens internally:\n",
    "\n",
    "1. `ModelSerializer` looks at `Meta.model` (`Task`) and `Meta.fields` (`__all__`).\n",
    "\n",
    "2. It dynamically creates serializer fields for `title`, `description`, and `completed`.\n",
    "\n",
    "3. When you access `serializer.data`, it calls the base `to_representation` method, \n",
    "   which converts the `Task` instance into a Python dictionary."
   ]
  },
  {
   "cell_type": "code",
   "execution_count": null,
   "id": "327eb04c-0a0a-4b06-9756-44add16d7f57",
   "metadata": {},
   "outputs": [],
   "source": [
    "## example usage:\n",
    "from api.models import Task\n",
    "from api.serializers import TaskSerializer\n",
    "\n",
    "# Get the first task from the database\n",
    "task = Task.objects.first()\n",
    "\n",
    "# Create a serializer instance\n",
    "serializer = TaskSerializer(task)\n",
    "\n",
    "# Convert the Task instance to a Python dictionary (ready for JSON)\n",
    "print(serializer.data)\n"
   ]
  },
  {
   "cell_type": "code",
   "execution_count": 8,
   "id": "690b7c2d-a3c6-4739-bede-e281085afa38",
   "metadata": {},
   "outputs": [
    {
     "ename": "SyntaxError",
     "evalue": "invalid syntax (2204506537.py, line 2)",
     "output_type": "error",
     "traceback": [
      "\u001b[1;36m  Cell \u001b[1;32mIn[8], line 2\u001b[1;36m\u001b[0m\n\u001b[1;33m    ```json\u001b[0m\n\u001b[1;37m    ^\u001b[0m\n\u001b[1;31mSyntaxError\u001b[0m\u001b[1;31m:\u001b[0m invalid syntax\n"
     ]
    }
   ],
   "source": [
    "### Example Output\n",
    "```json\n",
    "{\n",
    "  \"id\": 1,\n",
    "  \"title\": \"Buy groceries\",\n",
    "  \"description\": \"Milk, eggs, bread\",\n",
    "  \"completed\": false\n",
    "}\n"
   ]
  },
  {
   "cell_type": "markdown",
   "id": "4a6f8e64-51f7-4b03-8a76-d3d723d1b7c7",
   "metadata": {},
   "source": [
    "## Step 7: Create Views and URLs\n",
    "\n",
    "### Django REST Framework Views\n",
    "\n",
    "**Views** are the part of Django that **handles incoming requests** from clients.  \n",
    "\n",
    "- When someone visits a URL or calls your API, Django passes the request to a **view**.  \n",
    "- The view decides what to do and what data to send back.  \n",
    "\n",
    "---\n",
    "\n",
    "### API Views in DRF\n",
    "\n",
    "In Django REST Framework (DRF), there are two main ways to make API views:\n",
    "\n",
    "1. **APIView**  \n",
    "   - Lets you define each method manually:  \n",
    "     - `get()` → read data  \n",
    "     - `post()` → create data  \n",
    "     - `put()` / `patch()` → update data  \n",
    "     - `delete()` → delete data\n",
    "2. **ViewSet**  \n",
    "   - A shortcut that automatically provides CRUD operations\n",
    "\n",
    "\n",
    "In api/views.py, create the following views:"
   ]
  },
  {
   "cell_type": "code",
   "execution_count": null,
   "id": "550b7ba4-26f9-4727-a3d3-f5f5779ec41b",
   "metadata": {},
   "outputs": [],
   "source": [
    "from rest_framework.response import Response\n",
    "from rest_framework.decorators import api_view\n",
    "from rest_framework import status\n",
    "from .models import Task\n",
    "from .serializers import TaskSerializer\n",
    "\n",
    "@api_view(['GET', 'POST']) #decorator (adds extra logic to function) that allows this function to handle only the specified HTTP methods.\n",
    "def task_list(request):\n",
    "    \"\"\"\n",
    "    Handle requests for the list of tasks.\n",
    "\n",
    "    GET:\n",
    "        - Retrieve all Task objects from the database.\n",
    "        - Serialize them into JSON and return in the response.\n",
    "\n",
    "    POST:\n",
    "        - Accept JSON data to create a new Task.\n",
    "        - Validate the data using TaskSerializer.\n",
    "        - Save to the database if valid, else return errors.\n",
    "    \"\"\"\n",
    "    if request.method == 'GET':\n",
    "        # Get all tasks from the database\n",
    "        tasks = Task.objects.all()\n",
    "\n",
    "        # Serialize multiple objects with many=True\n",
    "        serializer = TaskSerializer(tasks, many=True)\n",
    "\n",
    "        # Return serialized data as JSON\n",
    "        return Response(serializer.data)\n",
    "\n",
    "    elif request.method == 'POST':\n",
    "        # Deserialize incoming JSON data\n",
    "        serializer = TaskSerializer(data=request.data)\n",
    "\n",
    "        # Validate the data\n",
    "        if serializer.is_valid():\n",
    "            # Save the new Task to the database\n",
    "            serializer.save()\n",
    "            # Return created task with 201 status code\n",
    "            return Response(serializer.data, status=status.HTTP_201_CREATED)\n",
    "\n",
    "        # Return validation errors with 400 status code\n",
    "        return Response(serializer.errors, status=status.HTTP_400_BAD_REQUEST)\n",
    "\n",
    "\n",
    "@api_view(['GET', 'PUT', 'DELETE'])\n",
    "def task_detail(request, pk):\n",
    "    \"\"\"\n",
    "    Handle requests for a single task by its primary key (id).\n",
    "\n",
    "    GET:\n",
    "        - Retrieve a single Task and return it as JSON.\n",
    "\n",
    "    PUT:\n",
    "        - Update a Task with incoming JSON data.\n",
    "        - Validate and save changes if valid.\n",
    "\n",
    "    DELETE:\n",
    "        - Remove the Task from the database.\n",
    "    \"\"\"\n",
    "    try:\n",
    "        # Try to get the task by primary key\n",
    "        task = Task.objects.get(pk=pk)\n",
    "    except Task.DoesNotExist:\n",
    "        # Return 404 if the task does not exist\n",
    "        return Response(status=status.HTTP_404_NOT_FOUND)\n",
    "\n",
    "    if request.method == 'GET':\n",
    "        # Serialize the task object\n",
    "        serializer = TaskSerializer(task)\n",
    "        # Return serialized data as JSON\n",
    "        return Response(serializer.data)\n",
    "\n",
    "    elif request.method == 'PUT':\n",
    "        # Deserialize incoming data and update the existing task\n",
    "        serializer = TaskSerializer(task, data=request.data)\n",
    "        if serializer.is_valid():\n",
    "            # Save updates to the database\n",
    "            serializer.save()\n",
    "            return Response(serializer.data)\n",
    "        # Return validation errors\n",
    "        return Response(serializer.errors, status=status.HTTP_400_BAD_REQUEST)\n",
    "\n",
    "    elif request.method == 'DELETE':\n",
    "        # Delete the task from the database\n",
    "        task.delete()\n",
    "        # Return 204 No Content to indicate successful deletion\n",
    "        return Response(status=status.HTTP_204_NO_CONTENT)\n"
   ]
  },
  {
   "cell_type": "markdown",
   "id": "09532f50-7d1d-47a2-ae12-ae904dafb936",
   "metadata": {},
   "source": [
    "# Step 8: Define URLs in Django REST Framework\n",
    "\n",
    "Create URLs to map the views. \n",
    "\n",
    "**URLs** are like **addresses** for your API endpoints.  \n",
    "When someone visits a URL, Django checks this list to see **which view should handle the request**.\n",
    "\n",
    "---\n",
    "\n",
    "In api/urls.py, define the API routes:"
   ]
  },
  {
   "cell_type": "code",
   "execution_count": null,
   "id": "97a7867f-929e-4e66-b64c-13e484b63415",
   "metadata": {},
   "outputs": [],
   "source": [
    "from django.urls import path\n",
    "from . import views\n",
    "\n",
    "urlpatterns = [\n",
    "    path('tasks/', views.task_list),\n",
    "    path('tasks/<int:pk>/', views.task_detail),\n",
    "]"
   ]
  },
  {
   "cell_type": "markdown",
   "id": "81ed0761-b668-468f-b83f-84678ea29ec1",
   "metadata": {},
   "source": [
    "**`tasks/`** → points to the `task_list` view  \n",
    "- Handles **GET** (list all tasks)  \n",
    "- Handles **POST** (create a new task)  \n",
    "\n",
    "**`tasks/<int:pk>/`** → points to the `task_detail` view  \n",
    "- `<int:pk>` means it expects a **task ID number**  \n",
    "- Handles **GET** (get one task), **PUT** (update task), **DELETE** (delete task)  \n",
    "\n",
    "---\n",
    "\n",
    "### Analogy\n",
    "\n",
    "Think of URLs like **street addresses**:  \n",
    "\n",
    "- `tasks/` → the main street where all tasks live  \n",
    "- `tasks/3/` → the house of task with ID 3  \n",
    "\n",
    "When a request comes in, Django checks **which “house” (view)** to send it to.\n"
   ]
  },
  {
   "cell_type": "markdown",
   "id": "f9dd2333-bfa7-4602-8956-434b0774855c",
   "metadata": {},
   "source": [
    "Now include these URLs in your project’s main urls.py:\n"
   ]
  },
  {
   "cell_type": "code",
   "execution_count": null,
   "id": "83c2fdf2-a38c-4ebc-b897-ae23d62b9af2",
   "metadata": {},
   "outputs": [],
   "source": [
    "from django.contrib import admin\n",
    "from django.urls import path, include\n",
    "\n",
    "urlpatterns = [\n",
    "    path('admin/', admin.site.urls),   # /admin/ → Django admin site\n",
    "    path('api/', include('api.urls')), # /api/ → include all URLs defined in api/urls.py\n",
    "]"
   ]
  },
  {
   "cell_type": "markdown",
   "id": "c535e941-6a4b-46a9-bec3-c68863e38d64",
   "metadata": {},
   "source": [
    "## Step 9: Testing the API\n",
    "\n",
    "Run the Django development server:\n",
    "\n",
    "python manage.py runserver\n",
    "\n",
    "By default, it runs at http://127.0.0.1:8000/\n",
    "So your API endpoints will start with http://127.0.0.1:8000/api/"
   ]
  },
  {
   "cell_type": "markdown",
   "id": "d4f9352a-4771-4191-be3f-79854513a149",
   "metadata": {},
   "source": [
    "### Create a Postman Collection\n",
    "This will group all your task endpoints together.  \n",
    "- In Postman, click Collections → New Collection. \n",
    "- Name it something like Task API.\n",
    "- Add each request below to this collection.\n",
    "\n",
    "# CRUD Operations for Tasks API\n",
    "\n",
    "### 1. Get All Tasks\n",
    "- **Method:** GET  \n",
    "- **URL:** `http://127.0.0.1:8000/api/tasks/`  \n",
    "\n",
    "Click **Send** → you should see a list of tasks (empty list `[]` if none).\n",
    "\n",
    "---\n",
    "\n",
    "### 2. Create a New Task\n",
    "- **Method:** POST  \n",
    "- **URL:** `http://127.0.0.1:8000/api/tasks/`  \n",
    "\n",
    "Go to **Body → raw → JSON**  \n",
    "\n",
    "Example JSON:\n"
   ]
  },
  {
   "cell_type": "code",
   "execution_count": 1,
   "id": "0cc193fa-b7c3-458a-a1ba-f9826a9d1586",
   "metadata": {},
   "outputs": [
    {
     "ename": "NameError",
     "evalue": "name 'false' is not defined",
     "output_type": "error",
     "traceback": [
      "\u001b[1;31m---------------------------------------------------------------------------\u001b[0m",
      "\u001b[1;31mNameError\u001b[0m                                 Traceback (most recent call last)",
      "Cell \u001b[1;32mIn[1], line 4\u001b[0m\n\u001b[0;32m      1\u001b[0m {\n\u001b[0;32m      2\u001b[0m   \u001b[38;5;124m\"\u001b[39m\u001b[38;5;124mtitle\u001b[39m\u001b[38;5;124m\"\u001b[39m: \u001b[38;5;124m\"\u001b[39m\u001b[38;5;124mMy First Task\u001b[39m\u001b[38;5;124m\"\u001b[39m,\n\u001b[0;32m      3\u001b[0m   \u001b[38;5;124m\"\u001b[39m\u001b[38;5;124mdescription\u001b[39m\u001b[38;5;124m\"\u001b[39m: \u001b[38;5;124m\"\u001b[39m\u001b[38;5;124mThis is a sample task\u001b[39m\u001b[38;5;124m\"\u001b[39m,\n\u001b[1;32m----> 4\u001b[0m   \u001b[38;5;124m\"\u001b[39m\u001b[38;5;124mcompleted\u001b[39m\u001b[38;5;124m\"\u001b[39m: false\n\u001b[0;32m      5\u001b[0m }\n",
      "\u001b[1;31mNameError\u001b[0m: name 'false' is not defined"
     ]
    }
   ],
   "source": [
    "{\n",
    "  \"title\": \"My First Task\",\n",
    "  \"description\": \"This is a sample task\",\n",
    "  \"completed\": false\n",
    "}"
   ]
  },
  {
   "cell_type": "code",
   "execution_count": 1,
   "id": "0303e31f-0e1f-4cc4-be9b-ade723006a60",
   "metadata": {},
   "outputs": [
    {
     "ename": "SyntaxError",
     "evalue": "invalid character '→' (U+2192) (698596579.py, line 6)",
     "output_type": "error",
     "traceback": [
      "\u001b[1;36m  Cell \u001b[1;32mIn[1], line 6\u001b[1;36m\u001b[0m\n\u001b[1;33m    Click **Send** → should return that specific task.\u001b[0m\n\u001b[1;37m                   ^\u001b[0m\n\u001b[1;31mSyntaxError\u001b[0m\u001b[1;31m:\u001b[0m invalid character '→' (U+2192)\n"
     ]
    }
   ],
   "source": [
    "### 3. Get a Single Task\n",
    "- **Method:** GET  \n",
    "- **URL:** `http://127.0.0.1:8000/api/tasks/1/`  \n",
    "  *(replace `1` with the actual task ID returned in step 2)*  \n",
    "\n",
    "Click **Send** → should return that specific task.\n",
    "\n",
    "---\n",
    "\n",
    "### 4. Update a Task\n",
    "- **Method:** PUT  \n",
    "- **URL:** `http://127.0.0.1:8000/api/tasks/1/`  \n",
    "\n",
    "Go to **Body → raw → JSON**  \n",
    "\n",
    "Example JSON:"
   ]
  },
  {
   "cell_type": "code",
   "execution_count": null,
   "id": "b0664bba-1c6f-4212-b477-25047d279719",
   "metadata": {},
   "outputs": [],
   "source": [
    "{\n",
    "  \"title\": \"Updated Task Title\",\n",
    "  \"description\": \"Updated description\",\n",
    "  \"completed\": true\n",
    "}"
   ]
  },
  {
   "cell_type": "markdown",
   "id": "e3b2846c-9278-4cea-a168-6d5cfbfc6f42",
   "metadata": {},
   "source": [
    "### 5. Delete a Task\n",
    "- **Method:** DELETE  \n",
    "- **URL:** `http://127.0.0.1:8000/api/tasks/1/`  \n",
    "\n",
    "Click **Send** → should return `204 No Content` (task deleted).\n"
   ]
  }
 ],
 "metadata": {
  "kernelspec": {
   "display_name": "Python [conda env:base] *",
   "language": "python",
   "name": "conda-base-py"
  },
  "language_info": {
   "codemirror_mode": {
    "name": "ipython",
    "version": 3
   },
   "file_extension": ".py",
   "mimetype": "text/x-python",
   "name": "python",
   "nbconvert_exporter": "python",
   "pygments_lexer": "ipython3",
   "version": "3.13.5"
  }
 },
 "nbformat": 4,
 "nbformat_minor": 5
}
