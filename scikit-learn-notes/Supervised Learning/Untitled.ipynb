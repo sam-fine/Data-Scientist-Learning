{
 "cells": [
  {
   "cell_type": "markdown",
   "id": "1128d4b8",
   "metadata": {},
   "source": [
    "# 1.1 Linear Models"
   ]
  },
  {
   "cell_type": "markdown",
   "id": "a5c0dab5",
   "metadata": {},
   "source": [
    "We have the linear equation $\\hat{y}(w, x) = w_0 + w_1 x_1 + \\dots + w_p x_p$\n",
    "\n",
    "Across the module, we designate the vector $w = (w_1, w_2, ..., w_p)$ as **coef_** \n",
    "and \n",
    "$w_0$ as **intercept_.**\n"
   ]
  }
 ],
 "metadata": {
  "kernelspec": {
   "display_name": "Python 3 (ipykernel)",
   "language": "python",
   "name": "python3"
  },
  "language_info": {
   "codemirror_mode": {
    "name": "ipython",
    "version": 3
   },
   "file_extension": ".py",
   "mimetype": "text/x-python",
   "name": "python",
   "nbconvert_exporter": "python",
   "pygments_lexer": "ipython3",
   "version": "3.9.12"
  }
 },
 "nbformat": 4,
 "nbformat_minor": 5
}
